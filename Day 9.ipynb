{
 "cells": [
  {
   "cell_type": "code",
   "execution_count": 366,
   "metadata": {},
   "outputs": [],
   "source": [
    "class IntcodeComputer:\n",
    "    def __init__(self, bits):\n",
    "        self.bits = bits.copy() + [0]* 1000\n",
    "        self.i = 0\n",
    "        self.outputs = []\n",
    "        self.inputs = []\n",
    "        self.input_i = 0\n",
    "        self.relative_base = 0 \n",
    "        self.state = 'Not Started'\n",
    "\n",
    "        \n",
    "    def _apply_mode(self, instruction, i):\n",
    "        mode = int(instruction[-2-i])\n",
    "        loc = self.i + i\n",
    "        \n",
    "        if mode == 0:\n",
    "            return self.bits[self.bits[loc]]\n",
    "        elif mode == 1:\n",
    "            return self.bits[loc]\n",
    "        elif mode ==2:\n",
    "            return self.bits[self.relative_base + self.bits[loc]]\n",
    "    \n",
    "    def _write_mode(self, instruction, i, write):\n",
    "        if instruction[-2-i] == '0':\n",
    "            self.bits[self.bits[self.i+i]] = write\n",
    "        else:\n",
    "            self.bits[self.bits[self.i+i] + self.relative_base] = write\n",
    "    \n",
    "    def run(self, inputs=[]):\n",
    "        if isinstance(inputs, list):\n",
    "            self.inputs += inputs\n",
    "        else:\n",
    "            self.inputs += [inputs]\n",
    "\n",
    "        while True:\n",
    "            instruction = (\"00000\" + str(self.bits[self.i]))[-6:]\n",
    "            opcode = int(instruction[-2:])\n",
    "                        \n",
    "            if opcode == 99:\n",
    "                self.state = 'Finished'\n",
    "                return int(self.outputs[-1])\n",
    "            elif opcode == 1:\n",
    "                p1 = self._apply_mode(instruction, 1)\n",
    "                p2 = self._apply_mode(instruction, 2)\n",
    "                \n",
    "                self._write_mode(instruction, 3, p1+p2)\n",
    "                self.i = self.i+4\n",
    "            elif opcode == 2:\n",
    "                p1 = self._apply_mode(instruction, 1)\n",
    "                p2 = self._apply_mode(instruction, 2)\n",
    "                \n",
    "                self._write_mode(instruction, 3, p1*p2)\n",
    "                self.i = self.i+4\n",
    "            elif opcode == 3:\n",
    "                if len(self.inputs) <= self.input_i:\n",
    "                    self.state = 'Paused'\n",
    "                    if len(self.outputs) > 0:\n",
    "                        return int(self.outputs[-1])\n",
    "                    else:\n",
    "                        return None\n",
    "                \n",
    "                self._write_mode(instruction, 1, self.inputs[self.input_i])                \n",
    "                self.input_i += 1\n",
    "                self.i = self.i+2\n",
    "            elif opcode == 4:\n",
    "                output_val = self._apply_mode(instruction, 1)\n",
    "                self.outputs += [output_val]\n",
    "                self.i = self.i+2\n",
    "            elif opcode == 5:\n",
    "                p1 = self._apply_mode(instruction, 1)\n",
    "                p2 = self._apply_mode(instruction, 2)\n",
    "\n",
    "                if p1 > 0:\n",
    "                    self.i = p2\n",
    "                else:\n",
    "                    self.i = self.i+3\n",
    "            elif opcode == 6:\n",
    "                p1 = self._apply_mode(instruction, 1)\n",
    "                p2 = self._apply_mode(instruction, 2)\n",
    "\n",
    "                if p1 == 0:\n",
    "                    self.i = p2\n",
    "                else:\n",
    "                    self.i = self.i+3\n",
    "            elif opcode == 7:\n",
    "                p1 = self._apply_mode(instruction, 1)\n",
    "                p2 = self._apply_mode(instruction, 2)\n",
    "                p3 = self._apply_mode(instruction, 3)\n",
    "                if p1 < p2:\n",
    "                    self._write_mode(instruction, 3, 1)\n",
    "                    #self.bits[self.bits[self.i+3]] = 1\n",
    "                else:\n",
    "                    self._write_mode(instruction, 3, 0)\n",
    "                    #self.bits[self.bits[self.i+3]] = 0\n",
    "                self.i = self.i+4\n",
    "            elif opcode == 8:\n",
    "                p1 = self._apply_mode(instruction, 1)\n",
    "                p2 = self._apply_mode(instruction, 2)\n",
    "                p3 = self._apply_mode(instruction, 3)\n",
    "                if p1 == p2:\n",
    "                    self._write_mode(instruction, 3, 1)\n",
    "                    #self.bits[self.bits[self.i+3]] = 1\n",
    "                else:\n",
    "                    self._write_mode(instruction, 3, 0)\n",
    "                    #self.bits[self.bits[self.i+3]] = 0\n",
    "                self.i = self.i+4            \n",
    "            elif opcode == 9:\n",
    "                self.relative_base = self.relative_base + self._apply_mode(instruction, 1)\n",
    "                self.i = self.i+2"
   ]
  },
  {
   "cell_type": "code",
   "execution_count": 171,
   "metadata": {},
   "outputs": [],
   "source": [
    "def Q1(intcode, phase_signal):\n",
    "    output_signal = 0\n",
    "    for p in phase_signal:\n",
    "        c = IntcodeComputer(intcode)\n",
    "        c.run(p)\n",
    "        output_signal = c.run(output_signal)\n",
    "    return output_signal"
   ]
  },
  {
   "cell_type": "code",
   "execution_count": 365,
   "metadata": {},
   "outputs": [],
   "source": [
    "assert Q1([3,15,3,16,1002,16,10,16,1,16,15,15,4,15,99,0,0], [4,3,2,1,0]) == 43210, \"Wrong\""
   ]
  },
  {
   "cell_type": "code",
   "execution_count": 364,
   "metadata": {},
   "outputs": [],
   "source": [
    "assert Q1([3,23,3,24,1002,24,10,24,1002,23,-1,23,101,5,23,23,1,24,23,23,4,23,99,0,0], [0,1,2,3,4]) == 54321, \"Wrong\""
   ]
  },
  {
   "cell_type": "code",
   "execution_count": 359,
   "metadata": {},
   "outputs": [],
   "source": [
    "assert Q1([3,31,3,32,1002,32,10,32,1001,31,-2,31,1007,31,0,33,1002,33,7,33,1,33,31,31,1,32,31,31,4,31,99,0,0,0], [1,0,4,3,2]) == 65210, \"Wrong\""
   ]
  },
  {
   "cell_type": "code",
   "execution_count": 287,
   "metadata": {},
   "outputs": [],
   "source": [
    "with open('data/day9.txt') as fn:\n",
    "    bits = fn.readline().split(',')\n",
    "    bits = [int(b) for b in bits]"
   ]
  },
  {
   "cell_type": "markdown",
   "metadata": {},
   "source": [
    "# Q1"
   ]
  },
  {
   "cell_type": "markdown",
   "metadata": {},
   "source": [
    "## Tests"
   ]
  },
  {
   "cell_type": "code",
   "execution_count": 360,
   "metadata": {},
   "outputs": [],
   "source": [
    "C = IntcodeComputer([109,1,204,-1,1001,100,1,100,1008,100,16,101,1006,101,0,99])\n",
    "C.run() \n",
    "assert C.outputs == [109,1,204,-1,1001,100,1,100,1008,100,16,101,1006,101,0,99], \"WRONG\""
   ]
  },
  {
   "cell_type": "code",
   "execution_count": 361,
   "metadata": {},
   "outputs": [],
   "source": [
    "C = IntcodeComputer([1102,34915192,34915192,7,4,7,99,0])\n",
    "assert len(str(C.run()))==16"
   ]
  },
  {
   "cell_type": "code",
   "execution_count": 362,
   "metadata": {},
   "outputs": [],
   "source": [
    "C = IntcodeComputer([104,1125899906842624,99])\n",
    "assert C.run() == 1125899906842624, \"WRONG\""
   ]
  },
  {
   "cell_type": "markdown",
   "metadata": {},
   "source": [
    "## Run"
   ]
  },
  {
   "cell_type": "code",
   "execution_count": 367,
   "metadata": {},
   "outputs": [
    {
     "data": {
      "text/plain": [
       "3454977209"
      ]
     },
     "execution_count": 367,
     "metadata": {},
     "output_type": "execute_result"
    }
   ],
   "source": [
    "C = IntcodeComputer(bits)\n",
    "C.run([1])"
   ]
  },
  {
   "cell_type": "markdown",
   "metadata": {},
   "source": [
    "# Q2"
   ]
  },
  {
   "cell_type": "code",
   "execution_count": 369,
   "metadata": {},
   "outputs": [
    {
     "data": {
      "text/plain": [
       "50120"
      ]
     },
     "execution_count": 369,
     "metadata": {},
     "output_type": "execute_result"
    }
   ],
   "source": [
    "C = IntcodeComputer(bits)\n",
    "C.run(2)"
   ]
  }
 ],
 "metadata": {
  "kernelspec": {
   "display_name": "Python 3",
   "language": "python",
   "name": "python3"
  },
  "language_info": {
   "codemirror_mode": {
    "name": "ipython",
    "version": 3
   },
   "file_extension": ".py",
   "mimetype": "text/x-python",
   "name": "python",
   "nbconvert_exporter": "python",
   "pygments_lexer": "ipython3",
   "version": "3.6.9"
  }
 },
 "nbformat": 4,
 "nbformat_minor": 4
}
