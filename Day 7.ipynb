{
 "cells": [
  {
   "cell_type": "code",
   "execution_count": 1,
   "metadata": {},
   "outputs": [],
   "source": [
    "class intcode_computer:\n",
    "    def __init__(self, bits):\n",
    "        self.bits = bits.copy()\n",
    "        self.i = 0\n",
    "        self.outputs = []\n",
    "        self.inputs = []\n",
    "        self.input_i = 0\n",
    "        self.state = 'Not Started'\n",
    "\n",
    "    def run(self, inputs=[]):\n",
    "        if isinstance(inputs, list):\n",
    "            self.inputs += inputs\n",
    "        else:\n",
    "            self.inputs += [inputs]\n",
    "\n",
    "        while True:\n",
    "            instruction = (\"00000\" + str(self.bits[self.i]))[-6:]\n",
    "            opcode = int(instruction[-2:])\n",
    "            \n",
    "            if opcode == 99:\n",
    "                self.state = 'Finished'\n",
    "                return int(self.outputs[-1])\n",
    "            elif opcode == 1:\n",
    "                p1 = self.bits[self.i+1] if instruction[-3] == \"1\" else self.bits[self.bits[self.i+1]]\n",
    "                p2 = self.bits[self.i+2] if instruction[-4] == \"1\" else self.bits[self.bits[self.i+2]]\n",
    "                p3 = self.bits[self.i+3]\n",
    "\n",
    "                self.bits[p3] = p1 + p2\n",
    "                self.i = self.i+4\n",
    "            elif opcode == 2:\n",
    "                p1 = self.bits[self.i+1] if instruction[-3] == \"1\" else self.bits[self.bits[self.i+1]]\n",
    "                p2 = self.bits[self.i+2] if instruction[-4] == \"1\" else self.bits[self.bits[self.i+2]]\n",
    "                p3 = self.bits[self.i+3]\n",
    "\n",
    "                self.bits[p3] = p1 * p2\n",
    "                self.i = self.i+4\n",
    "            elif opcode == 3:\n",
    "                if len(self.inputs) <= self.input_i:\n",
    "                    self.state = 'Paused'\n",
    "                    if len(self.outputs) > 0:\n",
    "                        return int(self.outputs[-1])\n",
    "                    else:\n",
    "                        return None\n",
    "                self.bits[self.bits[self.i+1]] = self.inputs[self.input_i]\n",
    "                self.input_i += 1\n",
    "                self.i = self.i+2\n",
    "            elif opcode == 4:\n",
    "                output_val = self.bits[self.i+1] if instruction[-3] == \"1\" else self.bits[self.bits[self.i+1]]\n",
    "                self.outputs += [output_val]\n",
    "                self.i = self.i+2\n",
    "            elif opcode == 5:\n",
    "                p1 = self.bits[self.i+1] if instruction[-3] == \"1\" else self.bits[self.bits[self.i+1]]\n",
    "                p2 = self.bits[self.i+2] if instruction[-4] == \"1\" else self.bits[self.bits[self.i+2]]\n",
    "\n",
    "                if p1 > 0:\n",
    "                    self.i = p2\n",
    "                else:\n",
    "                    self.i = self.i+3\n",
    "            elif opcode == 6:\n",
    "                p1 = self.bits[self.i+1] if instruction[-3] == \"1\" else self.bits[self.bits[self.i+1]]\n",
    "                p2 = self.bits[self.i+2] if instruction[-4] == \"1\" else self.bits[self.bits[self.i+2]]\n",
    "\n",
    "                if p1 == 0:\n",
    "                    self.i = p2\n",
    "                else:\n",
    "                    self.i = self.i+3\n",
    "            elif opcode == 7:\n",
    "                p1 = self.bits[self.i+1] if instruction[-3] == \"1\" else self.bits[self.bits[self.i+1]]\n",
    "                p2 = self.bits[self.i+2] if instruction[-4] == \"1\" else self.bits[self.bits[self.i+2]]\n",
    "                p3 = self.bits[self.i+3] if instruction[-5] == \"1\" else self.bits[self.bits[self.i+3]]\n",
    "                if p1 < p2:\n",
    "                    self.bits[self.bits[self.i+3]] = 1\n",
    "                else:\n",
    "                    self.bits[self.bits[self.i+3]] = 0\n",
    "                self.i = self.i+4\n",
    "            elif opcode == 8:\n",
    "                p1 = self.bits[self.i+1] if instruction[-3] == \"1\" else self.bits[self.bits[self.i+1]]\n",
    "                p2 = self.bits[self.i+2] if instruction[-4] == \"1\" else self.bits[self.bits[self.i+2]]\n",
    "                p3 = self.bits[self.i+3] if instruction[-5] == \"1\" else self.bits[self.bits[self.i+3]]\n",
    "\n",
    "\n",
    "                if p1 == p2:\n",
    "                    self.bits[self.bits[self.i+3]] = 1\n",
    "                else:\n",
    "                    self.bits[self.bits[self.i+3]] = 0\n",
    "                self.i = self.i+4"
   ]
  },
  {
   "cell_type": "code",
   "execution_count": 2,
   "metadata": {},
   "outputs": [],
   "source": [
    "bits = [3,8,1001,8,10,8,105,1,0,0,21,38,59,84,97,110,191,272,353,434,99999,3,9,1002,9,2,9,101,4,9,9,1002,9,2,9,4,9,99,3,9,102,5,9,9,1001,9,3,9,1002,9,5,9,101,5,9,9,4,9,99,3,9,102,5,9,9,101,5,9,9,1002,9,3,9,101,2,9,9,1002,9,4,9,4,9,99,3,9,101,3,9,9,1002,9,3,9,4,9,99,3,9,102,5,9,9,1001,9,3,9,4,9,99,3,9,101,2,9,9,4,9,3,9,102,2,9,9,4,9,3,9,101,1,9,9,4,9,3,9,1002,9,2,9,4,9,3,9,1002,9,2,9,4,9,3,9,101,2,9,9,4,9,3,9,1001,9,2,9,4,9,3,9,102,2,9,9,4,9,3,9,101,2,9,9,4,9,3,9,1002,9,2,9,4,9,99,3,9,1002,9,2,9,4,9,3,9,1002,9,2,9,4,9,3,9,1002,9,2,9,4,9,3,9,101,1,9,9,4,9,3,9,1002,9,2,9,4,9,3,9,101,1,9,9,4,9,3,9,101,2,9,9,4,9,3,9,1001,9,1,9,4,9,3,9,1001,9,1,9,4,9,3,9,1001,9,2,9,4,9,99,3,9,1001,9,2,9,4,9,3,9,1002,9,2,9,4,9,3,9,102,2,9,9,4,9,3,9,1002,9,2,9,4,9,3,9,1001,9,2,9,4,9,3,9,1001,9,2,9,4,9,3,9,1001,9,1,9,4,9,3,9,1002,9,2,9,4,9,3,9,102,2,9,9,4,9,3,9,1002,9,2,9,4,9,99,3,9,101,2,9,9,4,9,3,9,101,1,9,9,4,9,3,9,102,2,9,9,4,9,3,9,101,1,9,9,4,9,3,9,101,2,9,9,4,9,3,9,101,1,9,9,4,9,3,9,102,2,9,9,4,9,3,9,1001,9,2,9,4,9,3,9,1002,9,2,9,4,9,3,9,1002,9,2,9,4,9,99,3,9,1001,9,1,9,4,9,3,9,102,2,9,9,4,9,3,9,102,2,9,9,4,9,3,9,1001,9,2,9,4,9,3,9,101,1,9,9,4,9,3,9,1002,9,2,9,4,9,3,9,1001,9,1,9,4,9,3,9,102,2,9,9,4,9,3,9,1001,9,2,9,4,9,3,9,101,1,9,9,4,9,99]"
   ]
  },
  {
   "cell_type": "markdown",
   "metadata": {},
   "source": [
    "# Q1"
   ]
  },
  {
   "cell_type": "code",
   "execution_count": 3,
   "metadata": {},
   "outputs": [],
   "source": [
    "def Q1(intcode, phase_signal):\n",
    "    output_signal = 0\n",
    "    for p in phase_signal:\n",
    "        c = intcode_computer(intcode)\n",
    "        c.run(p)\n",
    "        output_signal = c.run(output_signal)\n",
    "    return output_signal"
   ]
  },
  {
   "cell_type": "markdown",
   "metadata": {},
   "source": [
    "## Tests"
   ]
  },
  {
   "cell_type": "code",
   "execution_count": 4,
   "metadata": {},
   "outputs": [],
   "source": [
    "assert Q1([3,15,3,16,1002,16,10,16,1,16,15,15,4,15,99,0,0], [4,3,2,1,0]) == 43210, \"Wrong\""
   ]
  },
  {
   "cell_type": "code",
   "execution_count": 5,
   "metadata": {},
   "outputs": [],
   "source": [
    "assert Q1([3,23,3,24,1002,24,10,24,1002,23,-1,23,101,5,23,23,1,24,23,23,4,23,99,0,0], [0,1,2,3,4]) == 54321, \"Wrong\""
   ]
  },
  {
   "cell_type": "code",
   "execution_count": 6,
   "metadata": {},
   "outputs": [],
   "source": [
    "assert Q1([3,31,3,32,1002,32,10,32,1001,31,-2,31,1007,31,0,33,1002,33,7,33,1,33,31,31,1,32,31,31,4,31,99,0,0,0], [1,0,4,3,2]) == 65210, \"Wrong\""
   ]
  },
  {
   "cell_type": "code",
   "execution_count": 7,
   "metadata": {},
   "outputs": [],
   "source": [
    "from itertools import permutations "
   ]
  },
  {
   "cell_type": "code",
   "execution_count": 8,
   "metadata": {},
   "outputs": [
    {
     "data": {
      "text/plain": [
       "338603"
      ]
     },
     "execution_count": 8,
     "metadata": {},
     "output_type": "execute_result"
    }
   ],
   "source": [
    "best_signal = 0\n",
    "best_code = None\n",
    "\n",
    "for code in permutations([0,1,2,3,4]):\n",
    "    signal = Q1(bits, code)\n",
    "    if signal > best_signal:\n",
    "        best_code = code\n",
    "        best_signal = signal\n",
    "        \n",
    "\n",
    "best_signal"
   ]
  },
  {
   "cell_type": "markdown",
   "metadata": {},
   "source": [
    "# Q2 "
   ]
  },
  {
   "cell_type": "code",
   "execution_count": 9,
   "metadata": {},
   "outputs": [],
   "source": [
    "def Q2(intcode, phase_signal):\n",
    "    A = intcode_computer(intcode)\n",
    "    A.run(phase_signal[0])\n",
    "    B = intcode_computer(intcode)\n",
    "    B.run(phase_signal[1])\n",
    "    C = intcode_computer(intcode)\n",
    "    C.run(phase_signal[2])\n",
    "    D = intcode_computer(intcode)\n",
    "    D.run(phase_signal[3])\n",
    "    E = intcode_computer(intcode)\n",
    "    E.run(phase_signal[4])\n",
    "    \n",
    "    output = None\n",
    "    signal = 0 \n",
    "    while E.state != 'Finished':\n",
    "        signal = A.run(signal)\n",
    "        signal = B.run(signal)\n",
    "        signal = C.run(signal)\n",
    "        signal = D.run(signal)        \n",
    "        signal = E.run(signal)\n",
    "    return signal"
   ]
  },
  {
   "cell_type": "markdown",
   "metadata": {},
   "source": [
    "## Tests"
   ]
  },
  {
   "cell_type": "code",
   "execution_count": 13,
   "metadata": {},
   "outputs": [],
   "source": [
    "assert Q2([3,26,1001,26,-4,26,3,27,1002,27,2,27,1,27,26,27,4,27,1001,28,-1,28,1005,28,6,99,0,0,5],\n",
    "      [9,8,7,6,5]) == 139629729, \"Wrong\""
   ]
  },
  {
   "cell_type": "code",
   "execution_count": 15,
   "metadata": {},
   "outputs": [],
   "source": [
    "assert Q2([3,52,1001,52,-5,52,3,53,1,52,56,54,1007,54,5,55,1005,55,26,1001,54,-5,54,1105,1,12,1,53,54,53,1008,54,0,55,1001,55,1,55,2,53,55,53,4,53,1001,56,-1,56,1005,56,6,99,0,0,0,0,10],\n",
    "      [9,7,8,5,6]) == 18216, \"Wrong\""
   ]
  },
  {
   "cell_type": "code",
   "execution_count": 16,
   "metadata": {},
   "outputs": [
    {
     "data": {
      "text/plain": [
       "63103596"
      ]
     },
     "execution_count": 16,
     "metadata": {},
     "output_type": "execute_result"
    }
   ],
   "source": [
    "best_signal = 0\n",
    "best_code = None\n",
    "\n",
    "for code in permutations([5,6,7,8,9]):\n",
    "    \n",
    "    signal = Q2(bits, code)\n",
    "    \n",
    "    if signal > best_signal:\n",
    "        best_code = code\n",
    "        best_signal = signal\n",
    "best_signal"
   ]
  }
 ],
 "metadata": {
  "kernelspec": {
   "display_name": "Python 3",
   "language": "python",
   "name": "python3"
  },
  "language_info": {
   "codemirror_mode": {
    "name": "ipython",
    "version": 3
   },
   "file_extension": ".py",
   "mimetype": "text/x-python",
   "name": "python",
   "nbconvert_exporter": "python",
   "pygments_lexer": "ipython3",
   "version": "3.6.9"
  }
 },
 "nbformat": 4,
 "nbformat_minor": 4
}
