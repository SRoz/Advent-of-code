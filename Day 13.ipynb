{
 "cells": [
  {
   "cell_type": "markdown",
   "metadata": {},
   "source": [
    "# Day 13"
   ]
  },
  {
   "cell_type": "code",
   "execution_count": 1,
   "metadata": {},
   "outputs": [],
   "source": [
    "from intcode_machine import IntcodeComputer"
   ]
  },
  {
   "cell_type": "code",
   "execution_count": 8,
   "metadata": {},
   "outputs": [],
   "source": [
    "with open('data/day13.txt') as fn:\n",
    "    program = fn.readlines()\n",
    "    program = [int(i) for i in program[0].split(',')]"
   ]
  },
  {
   "cell_type": "code",
   "execution_count": 115,
   "metadata": {},
   "outputs": [],
   "source": [
    "tile_map = {\n",
    "    0 : ' ',\n",
    "    1 : '+',\n",
    "    2 : '.',\n",
    "    3 : '=',\n",
    "    4 : '*'\n",
    "}"
   ]
  },
  {
   "cell_type": "code",
   "execution_count": 116,
   "metadata": {},
   "outputs": [
    {
     "data": {
      "text/plain": [
       "0"
      ]
     },
     "execution_count": 116,
     "metadata": {},
     "output_type": "execute_result"
    }
   ],
   "source": [
    "arcade = IntcodeComputer(program)\n",
    "arcade.run()"
   ]
  },
  {
   "cell_type": "code",
   "execution_count": 117,
   "metadata": {},
   "outputs": [],
   "source": [
    "seq = arcade.outputs"
   ]
  },
  {
   "cell_type": "code",
   "execution_count": 118,
   "metadata": {},
   "outputs": [],
   "source": [
    "n_blocks = 0\n",
    "\n",
    "seq_iter = iter(seq)\n",
    "for i in seq_iter:\n",
    "    x = i\n",
    "    y = next(seq_iter)\n",
    "    tile = next(seq_iter)\n",
    "    \n",
    "    if tile==2:\n",
    "        n_blocks += 1\n"
   ]
  },
  {
   "cell_type": "code",
   "execution_count": 119,
   "metadata": {},
   "outputs": [
    {
     "data": {
      "text/plain": [
       "361"
      ]
     },
     "execution_count": 119,
     "metadata": {},
     "output_type": "execute_result"
    }
   ],
   "source": [
    "n_blocks"
   ]
  },
  {
   "cell_type": "markdown",
   "metadata": {},
   "source": [
    "# Q2"
   ]
  },
  {
   "cell_type": "code",
   "execution_count": 120,
   "metadata": {},
   "outputs": [],
   "source": [
    "from collections import defaultdict"
   ]
  },
  {
   "cell_type": "code",
   "execution_count": 155,
   "metadata": {},
   "outputs": [],
   "source": [
    "def get_game(seq):\n",
    "    seq_iter = iter(seq)\n",
    "    pixels = defaultdict(lambda: 0)\n",
    "\n",
    "    for i in seq_iter:\n",
    "        x = i\n",
    "        y = next(seq_iter)\n",
    "        tile = next(seq_iter)\n",
    "        \n",
    "        if tile == 4:\n",
    "            ball_x = x\n",
    "        if tile == 3:\n",
    "            paddle_x = x\n",
    "        if (x, y) == (-1, 0):\n",
    "            score = tile\n",
    "        else:\n",
    "            pixels[(x,y)] = tile\n",
    "\n",
    "    x_dim = max(k[0] for k in pixels.keys())\n",
    "    y_dim = max(k[1] for k in pixels.keys())\n",
    "\n",
    "    grid = \"\"\n",
    "    for j in range(y_dim):\n",
    "        for i in range(x_dim):\n",
    "            grid += tile_map[pixels[(i,j)]]\n",
    "        grid += \"\\n\"\n",
    "\n",
    "    return grid, score, ball_x, paddle_x"
   ]
  },
  {
   "cell_type": "code",
   "execution_count": 180,
   "metadata": {},
   "outputs": [],
   "source": [
    "def run_print(joystick):\n",
    "    global arcade\n",
    "    arcade.run(joystick)\n",
    "    game_state = get_game(arcade.outputs)\n",
    "    print(game_state[0])\n",
    "    print(f\"Score: {game_state[1]}\")\n",
    "    return game_state"
   ]
  },
  {
   "cell_type": "code",
   "execution_count": 239,
   "metadata": {},
   "outputs": [],
   "source": [
    "def track_ball(game_state):\n",
    "    ball_x, paddle_x = game_state[2], game_state[3]\n",
    "    if ball_x > paddle_x:\n",
    "        joystick = 1\n",
    "    elif ball_x < paddle_x:\n",
    "        joystick = -1\n",
    "    else:\n",
    "        joystick = 0 \n",
    "    return run_print(joystick)\n",
    "    "
   ]
  },
  {
   "cell_type": "code",
   "execution_count": 240,
   "metadata": {},
   "outputs": [
    {
     "name": "stdout",
     "output_type": "stream",
     "text": [
      "++++++++++++++++++++++++++++++++++++++++++\n",
      "+                                         \n",
      "+  ... ...... .. ..... . ..    .....   .. \n",
      "+      . . .. .  . ... .... . ..... . ... \n",
      "+ . .  .. . ..... .  .........    . ..... \n",
      "+ ..... ..... ......    ..   ...    .  .  \n",
      "+ ....  .......    . ....  .  .  ....  .. \n",
      "+ ... ..  .. ...  . .. . ...... ...... .. \n",
      "+  ................ ..   .... .... ...... \n",
      "+    . .. ...   .  . . ... . ...... .. .  \n",
      "+ ..... .  . .. . ... ... .  . .. . . ... \n",
      "+ ...  .... .   .  ...  . . .... . . .  . \n",
      "+ .....  ..   . . .  .  ........... ..... \n",
      "+ ... .  .  . ..  . .. ..... .  ... . . . \n",
      "+ ...... .  ... .. .  .    ..  .  .    .. \n",
      "+ ...... .     .   .... . .    .  ...   . \n",
      "+  .  . . ... . . ...  .. .   ...   ....  \n",
      "+                                         \n",
      "+                                         \n",
      "+                   *                     \n",
      "+                                         \n",
      "+                    =                    \n",
      "\n",
      "Score: 0\n"
     ]
    }
   ],
   "source": [
    "program[0] =2\n",
    "arcade = IntcodeComputer(program)\n",
    "\n",
    "game_state = run_print(0)"
   ]
  },
  {
   "cell_type": "markdown",
   "metadata": {},
   "source": [
    "> HOLD DOWN ENTER!!!!"
   ]
  },
  {
   "cell_type": "code",
   "execution_count": 7382,
   "metadata": {},
   "outputs": [
    {
     "name": "stdout",
     "output_type": "stream",
     "text": [
      "++++++++++++++++++++++++++++++++++++++++++\n",
      "+                                         \n",
      "+                                         \n",
      "+                   *                     \n",
      "+                                         \n",
      "+                                         \n",
      "+                                         \n",
      "+                                         \n",
      "+                                         \n",
      "+                                         \n",
      "+                                         \n",
      "+                                         \n",
      "+                                         \n",
      "+                                         \n",
      "+                                         \n",
      "+                                         \n",
      "+                                         \n",
      "+                                         \n",
      "+                                         \n",
      "+                                         \n",
      "+                                         \n",
      "+                   =                     \n",
      "\n",
      "Score: 17590\n"
     ]
    }
   ],
   "source": [
    "game_state=track_ball(game_state)"
   ]
  }
 ],
 "metadata": {
  "kernelspec": {
   "display_name": "Python 3",
   "language": "python",
   "name": "python3"
  },
  "language_info": {
   "codemirror_mode": {
    "name": "ipython",
    "version": 3
   },
   "file_extension": ".py",
   "mimetype": "text/x-python",
   "name": "python",
   "nbconvert_exporter": "python",
   "pygments_lexer": "ipython3",
   "version": "3.7.4"
  }
 },
 "nbformat": 4,
 "nbformat_minor": 4
}
