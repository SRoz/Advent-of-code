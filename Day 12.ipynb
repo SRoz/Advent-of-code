{
 "cells": [
  {
   "cell_type": "markdown",
   "metadata": {},
   "source": [
    "# Day 12"
   ]
  },
  {
   "cell_type": "code",
   "execution_count": 1,
   "metadata": {},
   "outputs": [],
   "source": [
    "import re\n",
    "import numpy as np"
   ]
  },
  {
   "cell_type": "code",
   "execution_count": 2,
   "metadata": {},
   "outputs": [],
   "source": [
    "input_data = \"\"\"<x=1, y=2, z=-9>\n",
    "<x=-1, y=-9, z=-4>\n",
    "<x=17, y=6, z=8>\n",
    "<x=12, y=4, z=2>\"\"\""
   ]
  },
  {
   "cell_type": "code",
   "execution_count": 3,
   "metadata": {},
   "outputs": [],
   "source": [
    "test_data1 = \"\"\"<x=-1, y=0, z=2>\n",
    "<x=2, y=-10, z=-7>\n",
    "<x=4, y=-8, z=8>\n",
    "<x=3, y=5, z=-1>\"\"\"\n",
    "\n",
    "test_data2 = \"\"\"<x=-8, y=-10, z=0>\n",
    "<x=5, y=5, z=10>\n",
    "<x=2, y=-7, z=3>\n",
    "<x=9, y=-8, z=-3>\"\"\"\n"
   ]
  },
  {
   "cell_type": "code",
   "execution_count": 4,
   "metadata": {},
   "outputs": [],
   "source": [
    "data = [[int(re.findall(r\"-?\\d+\",i)[0]) for i in l.split(\",\")] for l in input_data.split(\"\\n\")]"
   ]
  },
  {
   "cell_type": "code",
   "execution_count": 5,
   "metadata": {},
   "outputs": [],
   "source": [
    "test1 = [[int(re.findall(r\"-?\\d+\",i)[0]) for i in l.split(\",\")] for l in test_data1.split(\"\\n\")]\n",
    "test2 = [[int(re.findall(r\"-?\\d+\",i)[0]) for i in l.split(\",\")] for l in test_data2.split(\"\\n\")]"
   ]
  },
  {
   "cell_type": "markdown",
   "metadata": {},
   "source": [
    "# Q1"
   ]
  },
  {
   "cell_type": "code",
   "execution_count": 6,
   "metadata": {},
   "outputs": [],
   "source": [
    "def simulate(data, n_steps):\n",
    "    position = np.array(data)\n",
    "    velocity = np.zeros_like(position)\n",
    "    for _ in range(n_steps):\n",
    "        for i in range(position.shape[0]):\n",
    "            velocity[position > position[i]] -= 1\n",
    "            velocity[position < position[i]] += 1\n",
    "\n",
    "        position += velocity\n",
    "    \n",
    "    potential_energy = np.sum(np.abs(position),axis=1)\n",
    "    kinetic_energy = np.sum(np.abs(velocity),axis=1)\n",
    "    total_energy = np.sum(potential_energy * kinetic_energy)\n",
    "    return total_energy"
   ]
  },
  {
   "cell_type": "code",
   "execution_count": 7,
   "metadata": {},
   "outputs": [
    {
     "data": {
      "text/plain": [
       "7471"
      ]
     },
     "execution_count": 7,
     "metadata": {},
     "output_type": "execute_result"
    }
   ],
   "source": [
    "simulate(data, 1000)"
   ]
  },
  {
   "cell_type": "markdown",
   "metadata": {},
   "source": [
    "# Q2"
   ]
  },
  {
   "cell_type": "code",
   "execution_count": 9,
   "metadata": {},
   "outputs": [],
   "source": [
    "class axis:\n",
    "    def __init__(self, position, velocity, axis):\n",
    "        self.i = 0\n",
    "        self.axis = axis\n",
    "        self.done = False\n",
    "        self.store = []\n",
    "        self.wrap(position, velocity, 0)\n",
    "\n",
    "    def wrap(self, position, velocity, t):\n",
    "        new = position[:,self.axis].ravel().tolist() + \\\n",
    "                        velocity[:,self.axis].ravel().tolist()\n",
    "        if new in self.store:\n",
    "            self.done = True\n",
    "            self.i = t + 1\n",
    "            to_ret = 1\n",
    "        else:\n",
    "            to_ret = 0\n",
    "        self.store.append(new)\n",
    "        return to_ret\n",
    "        "
   ]
  },
  {
   "cell_type": "code",
   "execution_count": 11,
   "metadata": {},
   "outputs": [],
   "source": [
    "def find_axis_repeat(data, axis):\n",
    "    position = np.array(data)\n",
    "    \n",
    "    x = position[:,axis]\n",
    "    x_dot = np.zeros_like(x)\n",
    "    \n",
    "    xs = set([str(x) + str(x_dot)])\n",
    "    l = len(x)\n",
    "    while True:\n",
    "        for i in range(l):\n",
    "            x_dot[x > x[i]] -=1\n",
    "            x_dot[x < x[i]] +=1\n",
    "        x += x_dot\n",
    "        \n",
    "        nx = str(x)+str(x_dot)\n",
    "        if nx in xs:\n",
    "            break\n",
    "        else:\n",
    "            xs.add(nx)\n",
    "        \n",
    "    return len(xs)"
   ]
  },
  {
   "cell_type": "code",
   "execution_count": 12,
   "metadata": {},
   "outputs": [
    {
     "name": "stdout",
     "output_type": "stream",
     "text": [
      "CPU times: user 1min 3s, sys: 899 ms, total: 1min 4s\n",
      "Wall time: 1min 3s\n"
     ]
    },
    {
     "data": {
      "text/plain": [
       "376243355967784"
      ]
     },
     "execution_count": 12,
     "metadata": {},
     "output_type": "execute_result"
    }
   ],
   "source": [
    "%%time\n",
    "\n",
    "x_i = find_axis_repeat(data, 0)\n",
    "y_i = find_axis_repeat(data, 1)\n",
    "z_i = find_axis_repeat(data, 2)\n",
    "\n",
    "np.lcm.reduce([x_i,y_i,z_i])"
   ]
  }
 ],
 "metadata": {
  "kernelspec": {
   "display_name": "Python 3",
   "language": "python",
   "name": "python3"
  },
  "language_info": {
   "codemirror_mode": {
    "name": "ipython",
    "version": 3
   },
   "file_extension": ".py",
   "mimetype": "text/x-python",
   "name": "python",
   "nbconvert_exporter": "python",
   "pygments_lexer": "ipython3",
   "version": "3.7.4"
  }
 },
 "nbformat": 4,
 "nbformat_minor": 4
}
