{
 "cells": [
  {
   "cell_type": "markdown",
   "metadata": {},
   "source": [
    "# Day 23"
   ]
  },
  {
   "cell_type": "code",
   "execution_count": 1,
   "metadata": {},
   "outputs": [],
   "source": [
    "from intcode_machine import IntcodeComputer\n",
    "from collections import defaultdict"
   ]
  },
  {
   "cell_type": "code",
   "execution_count": 2,
   "metadata": {},
   "outputs": [],
   "source": [
    "with open('data/day23.txt') as fn:\n",
    "    program = fn.readlines()\n",
    "    program = [int(i) for i in program[0].split(',')]"
   ]
  },
  {
   "cell_type": "markdown",
   "metadata": {},
   "source": [
    "# Q1"
   ]
  },
  {
   "cell_type": "code",
   "execution_count": 3,
   "metadata": {},
   "outputs": [],
   "source": [
    "network = dict()\n",
    "\n",
    "for address in range(50):\n",
    "    network[address] = IntcodeComputer(program)\n",
    "    network[address].run(address)"
   ]
  },
  {
   "cell_type": "code",
   "execution_count": 4,
   "metadata": {},
   "outputs": [],
   "source": [
    "end=False\n",
    "while True:\n",
    "    outputs = [comp.output for comp in network.values() if len(comp.output)>0]\n",
    "    outputs = [p for o in outputs for p in o]\n",
    "\n",
    "    inputs = defaultdict(lambda : [-1])\n",
    "\n",
    "    iterout = iter(outputs)\n",
    "    for o in iterout:\n",
    "\n",
    "        inputs[o] += [next(iterout), next(iterout)]\n",
    "        if o == 255:\n",
    "            end=True\n",
    "            break\n",
    "    if end:\n",
    "        break\n",
    "    for a in range(50):\n",
    "        network[a].run(inputs[a])"
   ]
  },
  {
   "cell_type": "code",
   "execution_count": 5,
   "metadata": {},
   "outputs": [
    {
     "data": {
      "text/plain": [
       "[-1, 6551, 24954]"
      ]
     },
     "execution_count": 5,
     "metadata": {},
     "output_type": "execute_result"
    }
   ],
   "source": [
    "inputs[255]"
   ]
  },
  {
   "cell_type": "markdown",
   "metadata": {},
   "source": [
    "# Q2"
   ]
  },
  {
   "cell_type": "code",
   "execution_count": 6,
   "metadata": {},
   "outputs": [],
   "source": [
    "class NAT:\n",
    "    def __init__(self):\n",
    "        self.output = []\n",
    "        self.store = False\n",
    "        self.delivered = False\n",
    "    def run(self, input):\n",
    "        global idle, end\n",
    "        if input != [-1]:\n",
    "            self.store = [0]+input[-2:]\n",
    "        \n",
    "        if idle:\n",
    "            self.output = self.store\n",
    "            if self.store and self.delivered:\n",
    "                if self.store[2] == self.delivered[2]:\n",
    "                    end=True\n",
    "            self.delivered = self.store\n",
    "            print(f\"Delivering {self.delivered}\")\n",
    "        else:\n",
    "            self.output = []"
   ]
  },
  {
   "cell_type": "code",
   "execution_count": 7,
   "metadata": {},
   "outputs": [],
   "source": [
    "network = dict()\n",
    "\n",
    "for address in range(50):\n",
    "    network[address] = IntcodeComputer(program)\n",
    "    network[address].run(address)\n",
    "\n",
    "network[255] = NAT()"
   ]
  },
  {
   "cell_type": "code",
   "execution_count": 8,
   "metadata": {},
   "outputs": [
    {
     "name": "stdout",
     "output_type": "stream",
     "text": [
      "Delivering [0, 6551, 24954]\n",
      "Delivering [0, 6551, 23081]\n",
      "Delivering [0, 6551, 21498]\n",
      "Delivering [0, 6551, 20261]\n",
      "Delivering [0, 6551, 19341]\n",
      "Delivering [0, 6551, 18677]\n",
      "Delivering [0, 6551, 18205]\n",
      "Delivering [0, 6551, 17872]\n",
      "Delivering [0, 6551, 17638]\n",
      "Delivering [0, 6551, 17474]\n",
      "Delivering [0, 6551, 17359]\n",
      "Delivering [0, 6551, 17278]\n",
      "Delivering [0, 6551, 17221]\n",
      "Delivering [0, 6551, 17182]\n",
      "Delivering [0, 6551, 17154]\n",
      "Delivering [0, 6551, 17135]\n",
      "Delivering [0, 6551, 17121]\n",
      "Delivering [0, 6551, 17112]\n",
      "Delivering [0, 6551, 17105]\n",
      "Delivering [0, 6551, 17100]\n",
      "Delivering [0, 6551, 17097]\n",
      "Delivering [0, 6551, 17095]\n",
      "Delivering [0, 6551, 17093]\n",
      "Delivering [0, 6551, 17092]\n",
      "Delivering [0, 6551, 17091]\n",
      "Delivering [0, 6551, 17091]\n"
     ]
    }
   ],
   "source": [
    "end = False\n",
    "idle_counter = 0\n",
    "idle = False\n",
    "\n",
    "while True:\n",
    "    outputs = [comp.output for comp in network.values() if len(comp.output)>0]\n",
    "    outputs = [p for o in outputs for p in o]\n",
    "\n",
    "    inputs = defaultdict(lambda : [-1])\n",
    "\n",
    "    iterout = iter(outputs)\n",
    "    for o in iterout:\n",
    "        inputs[o] += [next(iterout), next(iterout)]\n",
    "\n",
    "\n",
    "    # Detect idleness\n",
    "    if len(outputs) == 0:\n",
    "        idle_counter += 1\n",
    "    else:\n",
    "        idle=False\n",
    "        idle_counter = 0 \n",
    "        \n",
    "    if idle_counter == 3:\n",
    "        idle = True\n",
    "\n",
    "    for address, comp in network.items():\n",
    "        comp.run(inputs[address])\n",
    "        \n",
    "    if end:\n",
    "        break"
   ]
  }
 ],
 "metadata": {
  "kernelspec": {
   "display_name": "Python 3",
   "language": "python",
   "name": "python3"
  },
  "language_info": {
   "codemirror_mode": {
    "name": "ipython",
    "version": 3
   },
   "file_extension": ".py",
   "mimetype": "text/x-python",
   "name": "python",
   "nbconvert_exporter": "python",
   "pygments_lexer": "ipython3",
   "version": "3.7.4"
  }
 },
 "nbformat": 4,
 "nbformat_minor": 4
}
