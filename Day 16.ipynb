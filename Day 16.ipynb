{
 "cells": [
  {
   "cell_type": "markdown",
   "metadata": {},
   "source": [
    "# Day 16"
   ]
  },
  {
   "cell_type": "code",
   "execution_count": 5,
   "metadata": {},
   "outputs": [],
   "source": [
    "import numpy as np"
   ]
  },
  {
   "cell_type": "code",
   "execution_count": 131,
   "metadata": {},
   "outputs": [],
   "source": [
    "def make_reps(pattern, n, l):\n",
    "    return np.tile(np.repeat(pattern,n), int(1+np.ceil(l/(n*len(pattern)))))[1:l+1]"
   ]
  },
  {
   "cell_type": "code",
   "execution_count": 136,
   "metadata": {},
   "outputs": [],
   "source": [
    "def apply_pattern(pattern, digits):\n",
    "    if isinstance(digits, int):\n",
    "        digits = np.array([int(i) for i in str(digits)])\n",
    "    \n",
    "    new_seq=[]\n",
    "    l = len(digits)\n",
    "    \n",
    "    for i in range(l):\n",
    "        m = np.sum(make_reps(pattern, i+1, l) * digits)\n",
    "        new_seq.append(int(str(m)[-1]))\n",
    "        \n",
    "    return np.array(new_seq)"
   ]
  },
  {
   "cell_type": "code",
   "execution_count": 188,
   "metadata": {},
   "outputs": [],
   "source": [
    "def run(signal, n_phases, pattern=base_pattern):\n",
    "    for _ in range(n_phases):\n",
    "        print(_)\n",
    "        signal = apply_pattern(base_pattern, signal)\n",
    "    return int(\"\".join([str(i) for i in signal]))"
   ]
  },
  {
   "cell_type": "code",
   "execution_count": 1,
   "metadata": {},
   "outputs": [],
   "source": [
    "base_pattern = [0, 1, 0, -1]"
   ]
  },
  {
   "cell_type": "markdown",
   "metadata": {},
   "source": [
    "## Examples"
   ]
  },
  {
   "cell_type": "code",
   "execution_count": 158,
   "metadata": {},
   "outputs": [
    {
     "data": {
      "text/plain": [
       "1029498"
      ]
     },
     "execution_count": 158,
     "metadata": {},
     "output_type": "execute_result"
    }
   ],
   "source": [
    "example1 = 12345678\n",
    "run(example1, 4)"
   ]
  },
  {
   "cell_type": "code",
   "execution_count": 160,
   "metadata": {},
   "outputs": [],
   "source": [
    "assert str(run(80871224585914546619083218645595, 100))[:8] == '24176176'"
   ]
  },
  {
   "cell_type": "code",
   "execution_count": 162,
   "metadata": {},
   "outputs": [],
   "source": [
    "assert str(run(19617804207202209144916044189917, 100))[:8] == '73745418'"
   ]
  },
  {
   "cell_type": "code",
   "execution_count": 163,
   "metadata": {},
   "outputs": [],
   "source": [
    "assert str(run(69317163492948606335995924319873, 100))[:8] == '52432133'"
   ]
  },
  {
   "cell_type": "markdown",
   "metadata": {},
   "source": [
    "# Q1"
   ]
  },
  {
   "cell_type": "code",
   "execution_count": 170,
   "metadata": {},
   "outputs": [],
   "source": [
    "with open('data/day16.txt') as fn:\n",
    "    q1_input = int(fn.readlines()[0])"
   ]
  },
  {
   "cell_type": "code",
   "execution_count": 173,
   "metadata": {},
   "outputs": [
    {
     "data": {
      "text/plain": [
       "'78009100'"
      ]
     },
     "execution_count": 173,
     "metadata": {},
     "output_type": "execute_result"
    }
   ],
   "source": [
    "str(run(q1_input,100))[:8]"
   ]
  },
  {
   "cell_type": "markdown",
   "metadata": {},
   "source": [
    "# Q2"
   ]
  },
  {
   "cell_type": "code",
   "execution_count": 186,
   "metadata": {},
   "outputs": [],
   "source": [
    "def run_q2(signal, n_phases=100, pattern=base_pattern):\n",
    "    loc = int(signal[:7])\n",
    "    print(loc)\n",
    "    \n",
    "    signal = np.tile(np.array([int(i) for i in str(signal)]),10_000)\n",
    "    \n",
    "    output = run(signal, n_phases, pattern)\n",
    "    \n",
    "    return output[loc:(loc+8)]"
   ]
  },
  {
   "cell_type": "markdown",
   "metadata": {},
   "source": [
    "Way too slow.\n",
    "\n",
    "Tried constructing matrix.\n",
    "\n",
    "Realised it was just cumsum (reddit confirmed) after big enough offset:\n",
    "The matrix is just a lower triangular with 1's below after `j > n/2`"
   ]
  },
  {
   "cell_type": "code",
   "execution_count": 336,
   "metadata": {},
   "outputs": [],
   "source": [
    "signal = '03036732577212944063491565474664'"
   ]
  },
  {
   "cell_type": "code",
   "execution_count": 337,
   "metadata": {},
   "outputs": [],
   "source": [
    "n_phases=100;pattern=base_pattern"
   ]
  },
  {
   "cell_type": "code",
   "execution_count": 349,
   "metadata": {},
   "outputs": [],
   "source": [
    "def run_q2_cumsum(signal):\n",
    "    loc = int(signal[:7])\n",
    "    \n",
    "    phase = np.array([int(i) for i in str(signal)]*10_000)\n",
    "    n = len(phase)\n",
    "\n",
    "    for i in range(n_phases):\n",
    "        phase = phase[::-1].cumsum()[n//2-1::-1] % 10\n",
    "\n",
    "    loc = loc - len(phase)\n",
    "    return \"\".join([str(i) for i in phase[loc:loc+8]])"
   ]
  },
  {
   "cell_type": "code",
   "execution_count": 354,
   "metadata": {},
   "outputs": [
    {
     "data": {
      "text/plain": [
       "'37717791'"
      ]
     },
     "execution_count": 354,
     "metadata": {},
     "output_type": "execute_result"
    }
   ],
   "source": [
    "run_q2_cumsum(str(q1_input))"
   ]
  }
 ],
 "metadata": {
  "kernelspec": {
   "display_name": "Python 3",
   "language": "python",
   "name": "python3"
  },
  "language_info": {
   "codemirror_mode": {
    "name": "ipython",
    "version": 3
   },
   "file_extension": ".py",
   "mimetype": "text/x-python",
   "name": "python",
   "nbconvert_exporter": "python",
   "pygments_lexer": "ipython3",
   "version": "3.7.4"
  }
 },
 "nbformat": 4,
 "nbformat_minor": 4
}
