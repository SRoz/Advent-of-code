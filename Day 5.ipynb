{
 "cells": [
  {
   "cell_type": "markdown",
   "metadata": {},
   "source": [
    "# Day 5"
   ]
  },
  {
   "cell_type": "code",
   "execution_count": 1,
   "metadata": {},
   "outputs": [],
   "source": [
    "import numpy as np"
   ]
  },
  {
   "cell_type": "code",
   "execution_count": 2,
   "metadata": {},
   "outputs": [],
   "source": [
    "data = [3,225,1,225,6,6,1100,1,238,225,104,0,1102,17,65,225,102,21,95,224,1001,224,-1869,224,4,224,1002,223,8,223,101,7,224,224,1,224,223,223,101,43,14,224,1001,224,-108,224,4,224,102,8,223,223,101,2,224,224,1,223,224,223,1101,57,94,225,1101,57,67,225,1,217,66,224,101,-141,224,224,4,224,102,8,223,223,1001,224,1,224,1,224,223,223,1102,64,34,225,1101,89,59,225,1102,58,94,225,1002,125,27,224,101,-2106,224,224,4,224,102,8,223,223,1001,224,5,224,1,224,223,223,1102,78,65,225,1001,91,63,224,101,-127,224,224,4,224,102,8,223,223,1001,224,3,224,1,223,224,223,1102,7,19,224,1001,224,-133,224,4,224,102,8,223,223,101,6,224,224,1,224,223,223,2,61,100,224,101,-5358,224,224,4,224,102,8,223,223,101,3,224,224,1,224,223,223,1101,19,55,224,101,-74,224,224,4,224,102,8,223,223,1001,224,1,224,1,224,223,223,1101,74,68,225,4,223,99,0,0,0,677,0,0,0,0,0,0,0,0,0,0,0,1105,0,99999,1105,227,247,1105,1,99999,1005,227,99999,1005,0,256,1105,1,99999,1106,227,99999,1106,0,265,1105,1,99999,1006,0,99999,1006,227,274,1105,1,99999,1105,1,280,1105,1,99999,1,225,225,225,1101,294,0,0,105,1,0,1105,1,99999,1106,0,300,1105,1,99999,1,225,225,225,1101,314,0,0,106,0,0,1105,1,99999,107,677,677,224,102,2,223,223,1006,224,329,1001,223,1,223,1008,226,677,224,102,2,223,223,1006,224,344,1001,223,1,223,7,226,677,224,102,2,223,223,1005,224,359,1001,223,1,223,8,226,226,224,102,2,223,223,1006,224,374,1001,223,1,223,1007,226,226,224,102,2,223,223,1006,224,389,101,1,223,223,8,677,226,224,1002,223,2,223,1005,224,404,101,1,223,223,1108,677,226,224,102,2,223,223,1006,224,419,1001,223,1,223,1108,226,677,224,102,2,223,223,1006,224,434,101,1,223,223,1108,677,677,224,1002,223,2,223,1005,224,449,101,1,223,223,1008,677,677,224,1002,223,2,223,1006,224,464,101,1,223,223,7,677,226,224,1002,223,2,223,1006,224,479,101,1,223,223,108,677,677,224,1002,223,2,223,1005,224,494,101,1,223,223,107,226,677,224,1002,223,2,223,1006,224,509,101,1,223,223,107,226,226,224,102,2,223,223,1006,224,524,1001,223,1,223,1107,226,677,224,1002,223,2,223,1006,224,539,101,1,223,223,1008,226,226,224,102,2,223,223,1006,224,554,1001,223,1,223,8,226,677,224,1002,223,2,223,1006,224,569,101,1,223,223,1007,677,677,224,102,2,223,223,1005,224,584,1001,223,1,223,1107,677,226,224,1002,223,2,223,1006,224,599,101,1,223,223,7,226,226,224,1002,223,2,223,1005,224,614,101,1,223,223,108,677,226,224,1002,223,2,223,1005,224,629,1001,223,1,223,108,226,226,224,1002,223,2,223,1005,224,644,101,1,223,223,1007,677,226,224,1002,223,2,223,1006,224,659,101,1,223,223,1107,226,226,224,102,2,223,223,1005,224,674,1001,223,1,223,4,223,99,226]"
   ]
  },
  {
   "cell_type": "code",
   "execution_count": 3,
   "metadata": {},
   "outputs": [],
   "source": [
    "def main(bits, input_val=1, noun=None, verb=None):\n",
    "    bits = bits.copy()\n",
    "    if noun is not None:\n",
    "        bits[1] = noun\n",
    "    if verb is not None:\n",
    "        bits[2] = verb\n",
    "    \n",
    "    i = 0\n",
    "    outputs = []\n",
    "    while True:\n",
    "        \n",
    "        instruction = (\"00000\" + str(bits[i]))[-6:]\n",
    "        opcode = int(instruction[-2:])\n",
    "    \n",
    "        if opcode == 99:\n",
    "            break\n",
    "        elif opcode == 1:\n",
    "            p1 = bits[i+1] if instruction[-3] == \"1\" else bits[bits[i+1]]\n",
    "            p2 = bits[i+2] if instruction[-4] == \"1\" else bits[bits[i+2]]\n",
    "            p3 = bits[i+3]\n",
    "            \n",
    "            bits[p3] = p1 + p2\n",
    "            i = i+4\n",
    "        elif opcode == 2:\n",
    "            p1 = bits[i+1] if instruction[-3] == \"1\" else bits[bits[i+1]]\n",
    "            p2 = bits[i+2] if instruction[-4] == \"1\" else bits[bits[i+2]]\n",
    "            p3 = bits[i+3]\n",
    "            \n",
    "            bits[p3] = p1 * p2\n",
    "            i = i+4\n",
    "        elif opcode == 3:\n",
    "            bits[bits[i+1]] = input_val\n",
    "            i = i+2\n",
    "        elif opcode == 4:\n",
    "            output_val = bits[i+1] if instruction[-3] == \"1\" else bits[bits[i+1]]\n",
    "            outputs += [output_val]\n",
    "            i = i+2\n",
    "        elif opcode == 5:\n",
    "            p1 = bits[i+1] if instruction[-3] == \"1\" else bits[bits[i+1]]\n",
    "            p2 = bits[i+2] if instruction[-4] == \"1\" else bits[bits[i+2]]\n",
    "            \n",
    "            if p1 > 0:\n",
    "                i = p2\n",
    "            else:\n",
    "                i = i+3\n",
    "        elif opcode == 6:\n",
    "            p1 = bits[i+1] if instruction[-3] == \"1\" else bits[bits[i+1]]\n",
    "            p2 = bits[i+2] if instruction[-4] == \"1\" else bits[bits[i+2]]\n",
    "            \n",
    "            if p1 == 0:\n",
    "                i = p2\n",
    "            else:\n",
    "                i = i+3\n",
    "        elif opcode == 7:\n",
    "            p1 = bits[i+1] if instruction[-3] == \"1\" else bits[bits[i+1]]\n",
    "            p2 = bits[i+2] if instruction[-4] == \"1\" else bits[bits[i+2]]\n",
    "            p3 = bits[i+3] if instruction[-5] == \"1\" else bits[bits[i+3]]\n",
    "            if p1 < p2:\n",
    "                bits[bits[i+3]] = 1\n",
    "            else:\n",
    "                bits[bits[i+3]] = 0\n",
    "            i = i+4\n",
    "        elif opcode == 8:\n",
    "            p1 = bits[i+1] if instruction[-3] == \"1\" else bits[bits[i+1]]\n",
    "            p2 = bits[i+2] if instruction[-4] == \"1\" else bits[bits[i+2]]\n",
    "            p3 = bits[i+3] if instruction[-5] == \"1\" else bits[bits[i+3]]\n",
    "           \n",
    "            \n",
    "            if p1 == p2:\n",
    "                bits[bits[i+3]] = 1\n",
    "            else:\n",
    "                bits[bits[i+3]] = 0\n",
    "            i = i+4\n",
    "\n",
    "    return output_val"
   ]
  },
  {
   "cell_type": "markdown",
   "metadata": {},
   "source": [
    "# Q1"
   ]
  },
  {
   "cell_type": "code",
   "execution_count": 4,
   "metadata": {},
   "outputs": [
    {
     "data": {
      "text/plain": [
       "15259545"
      ]
     },
     "execution_count": 4,
     "metadata": {},
     "output_type": "execute_result"
    }
   ],
   "source": [
    "main(data)"
   ]
  },
  {
   "cell_type": "markdown",
   "metadata": {},
   "source": [
    "# Q2"
   ]
  },
  {
   "cell_type": "code",
   "execution_count": 5,
   "metadata": {},
   "outputs": [
    {
     "data": {
      "text/plain": [
       "7616021"
      ]
     },
     "execution_count": 5,
     "metadata": {},
     "output_type": "execute_result"
    }
   ],
   "source": [
    "main(data,input_val=5)"
   ]
  }
 ],
 "metadata": {
  "kernelspec": {
   "display_name": "Python 3",
   "language": "python",
   "name": "python3"
  },
  "language_info": {
   "codemirror_mode": {
    "name": "ipython",
    "version": 3
   },
   "file_extension": ".py",
   "mimetype": "text/x-python",
   "name": "python",
   "nbconvert_exporter": "python",
   "pygments_lexer": "ipython3",
   "version": "3.7.4"
  }
 },
 "nbformat": 4,
 "nbformat_minor": 4
}
