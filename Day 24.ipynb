{
 "cells": [
  {
   "cell_type": "markdown",
   "metadata": {},
   "source": [
    "# Christmas Eve"
   ]
  },
  {
   "cell_type": "code",
   "execution_count": 6,
   "metadata": {},
   "outputs": [],
   "source": [
    "import numpy as np"
   ]
  },
  {
   "cell_type": "code",
   "execution_count": 653,
   "metadata": {},
   "outputs": [],
   "source": [
    "bugs = \"\"\"#..##\n",
    "##...\n",
    ".#.#.\n",
    "#####\n",
    "####.\"\"\""
   ]
  },
  {
   "cell_type": "code",
   "execution_count": 242,
   "metadata": {},
   "outputs": [],
   "source": [
    "def to_array(string):\n",
    "    lines = string.split(\"\\n\")\n",
    "    array = np.array([[l for l in t] for t in lines])\n",
    "    np.place(array, array=='#', 1)\n",
    "    np.place(array, array=='.', 0)\n",
    "    np.place(array, array=='?', 0)\n",
    "    return array.astype(int)"
   ]
  },
  {
   "cell_type": "code",
   "execution_count": 41,
   "metadata": {},
   "outputs": [],
   "source": [
    "def n_adjacent(array):\n",
    "    return \\\n",
    "    (np.concatenate((np.zeros_like(array[0:1]),\n",
    "                array[:-1]), axis=0)) + \\\n",
    "    (np.concatenate((array[1:],\n",
    "                     np.zeros_like(array[0:1])\n",
    "                    ), axis=0)) + \\\n",
    "    (np.concatenate((np.zeros_like(array[:,0:1]),\n",
    "                    array[:,:-1]), axis=1)) + \\\n",
    "    (np.concatenate((array[:,1:],\n",
    "                     np.zeros_like(array[:,0:1])\n",
    "                    ), axis=1))"
   ]
  },
  {
   "cell_type": "code",
   "execution_count": 98,
   "metadata": {},
   "outputs": [],
   "source": [
    "def update(array):\n",
    "    to_ret = array.copy()\n",
    "    adj = n_adjacent(array)\n",
    "    \n",
    "    # Bug dies unless exactly 1 adj:\n",
    "    np.place(to_ret, (array==1) & (adj!=1), 0)\n",
    "    # Empty space infested if exactly 1 or 2 adj:\n",
    "    np.place(to_ret, (array==0) & ((adj==1) | (adj==2)), 1)\n",
    "    \n",
    "    return to_ret"
   ]
  },
  {
   "cell_type": "code",
   "execution_count": 169,
   "metadata": {},
   "outputs": [],
   "source": [
    "def score(array):\n",
    "    return np.sum(np.power(2, np.arange(array.size)), where=(array.ravel()==1))"
   ]
  },
  {
   "cell_type": "markdown",
   "metadata": {},
   "source": [
    "# Q1"
   ]
  },
  {
   "cell_type": "code",
   "execution_count": 654,
   "metadata": {},
   "outputs": [
    {
     "name": "stdout",
     "output_type": "stream",
     "text": [
      "23967691\n"
     ]
    }
   ],
   "source": [
    "bug_array = to_array(bugs)\n",
    "\n",
    "scores = set()\n",
    "while True:\n",
    "    bug_array = update(bug_array)\n",
    "    s = score(bug_array)\n",
    "    if s in scores:\n",
    "        print(s)\n",
    "        break\n",
    "    scores.add(s)"
   ]
  },
  {
   "cell_type": "markdown",
   "metadata": {},
   "source": [
    "# Q2"
   ]
  },
  {
   "cell_type": "code",
   "execution_count": 210,
   "metadata": {},
   "outputs": [],
   "source": [
    "from collections import defaultdict"
   ]
  },
  {
   "cell_type": "code",
   "execution_count": 578,
   "metadata": {},
   "outputs": [],
   "source": [
    "def n_adjacent_recur(levels, level=0):\n",
    "    array=levels[level].copy()\n",
    "    \n",
    "    adj = \\\n",
    "    (np.concatenate((np.zeros_like(array[0:1]) + levels[level-1][1,2],\n",
    "                array[:-1]), axis=0)) + \\\n",
    "    (np.concatenate((array[1:],\n",
    "                     np.zeros_like(array[0:1]) + levels[level-1][3,2]\n",
    "                    ), axis=0)) + \\\n",
    "    (np.concatenate((np.zeros_like(array[:,0:1]) + levels[level-1][2,1],\n",
    "                    array[:,:-1]), axis=1)) + \\\n",
    "    (np.concatenate((array[:,1:],\n",
    "                     np.zeros_like(array[:,0:1])  + levels[level-1][2,3]\n",
    "                    ), axis=1))\n",
    "    \n",
    "    adj[1,2] += levels[level+1][0].sum()\n",
    "    adj[3,2] += levels[level+1][-1].sum()\n",
    "    adj[2,1] += levels[level+1][:,0].sum()\n",
    "    adj[2,3] += levels[level+1][:,-1].sum()\n",
    "    \n",
    "    return adj"
   ]
  },
  {
   "cell_type": "code",
   "execution_count": 635,
   "metadata": {},
   "outputs": [],
   "source": [
    "def update_recur(levels, verbose=False):\n",
    "    levels = levels.copy()\n",
    "    \n",
    "    # Create new levels:\n",
    "    _ = levels[max(levels.keys())+1]\n",
    "    _ = levels[min(levels.keys())-1]\n",
    "    \n",
    "    to_ret = levels.copy()\n",
    "    \n",
    "    keys = list(levels.keys()) # Will create new keys for new levels on the fly\n",
    "    \n",
    "    for level in keys:\n",
    "        new = levels[level].copy()\n",
    "        adj = n_adjacent_recur(levels, level=level)\n",
    "\n",
    "        # Bug dies unless exactly 1 adj:\n",
    "        np.place(new, (levels[level]==1) & (adj!=1), 0)\n",
    "        # Empty space infested if exactly 1 or 2 adj:\n",
    "        np.place(new, (levels[level]==0) & ((adj==1) | (adj==2)), 1)\n",
    "        # Leave middle 0\n",
    "        new[2,2] = 0\n",
    "        to_ret[level] = new\n",
    "        \n",
    "        if verbose:\n",
    "            print(level)\n",
    "            print(levels[level])\n",
    "            print(adj)\n",
    "            print(new)\n",
    "\n",
    "    return to_ret"
   ]
  },
  {
   "cell_type": "code",
   "execution_count": 657,
   "metadata": {},
   "outputs": [
    {
     "data": {
      "text/plain": [
       "array([[1, 0, 0, 1, 1],\n",
       "       [1, 1, 0, 0, 0],\n",
       "       [0, 1, 0, 1, 0],\n",
       "       [1, 1, 1, 1, 1],\n",
       "       [1, 1, 1, 1, 0]])"
      ]
     },
     "execution_count": 657,
     "metadata": {},
     "output_type": "execute_result"
    }
   ],
   "source": [
    "bug_array = to_array(bugs)\n",
    "bug_array"
   ]
  },
  {
   "cell_type": "code",
   "execution_count": 658,
   "metadata": {},
   "outputs": [
    {
     "data": {
      "text/plain": [
       "2003"
      ]
     },
     "execution_count": 658,
     "metadata": {},
     "output_type": "execute_result"
    }
   ],
   "source": [
    "levels = defaultdict(lambda : np.zeros_like(bug_array))\n",
    "levels[0] = bug_array.copy()\n",
    "\n",
    "for i in range(200):\n",
    "    levels = update_recur(levels)\n",
    "\n",
    "np.array([l for l in levels.values()]).sum()"
   ]
  }
 ],
 "metadata": {
  "kernelspec": {
   "display_name": "Python 3",
   "language": "python",
   "name": "python3"
  },
  "language_info": {
   "codemirror_mode": {
    "name": "ipython",
    "version": 3
   },
   "file_extension": ".py",
   "mimetype": "text/x-python",
   "name": "python",
   "nbconvert_exporter": "python",
   "pygments_lexer": "ipython3",
   "version": "3.7.4"
  }
 },
 "nbformat": 4,
 "nbformat_minor": 4
}
