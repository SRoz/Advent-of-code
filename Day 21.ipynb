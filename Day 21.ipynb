{
 "cells": [
  {
   "cell_type": "markdown",
   "metadata": {},
   "source": [
    "# Day 21"
   ]
  },
  {
   "cell_type": "code",
   "execution_count": 1,
   "metadata": {},
   "outputs": [],
   "source": [
    "from intcode_machine import IntcodeComputer"
   ]
  },
  {
   "cell_type": "code",
   "execution_count": 2,
   "metadata": {},
   "outputs": [],
   "source": [
    "with open('data/day21.txt') as fn:\n",
    "    program = fn.readlines()\n",
    "    program = [int(i) for i in program[0].split(',')]"
   ]
  },
  {
   "cell_type": "code",
   "execution_count": 31,
   "metadata": {},
   "outputs": [],
   "source": [
    "class ASCII(IntcodeComputer):\n",
    "    def run_code(self, inp):\n",
    "        instruction = []\n",
    "        for line in inp:\n",
    "            instruction += [ord(i) for i in line] + [10]\n",
    "        self.run(instruction)\n",
    "\n",
    "    def draw_ascii(self):\n",
    "        print(\"\".join([chr(x) for x in self.outputs]))\n",
    "        "
   ]
  },
  {
   "cell_type": "code",
   "execution_count": 35,
   "metadata": {},
   "outputs": [
    {
     "name": "stdout",
     "output_type": "stream",
     "text": [
      "Input instructions:\n",
      "\n",
      "Walking...\n",
      "\n",
      "\n",
      "Didn't make it across:\n",
      "\n",
      ".................\n",
      ".................\n",
      "@................\n",
      "#####.###########\n",
      "\n",
      ".................\n",
      ".................\n",
      ".@...............\n",
      "#####.###########\n",
      "\n",
      ".................\n",
      "..@..............\n",
      ".................\n",
      "#####.###########\n",
      "\n",
      "...@.............\n",
      ".................\n",
      ".................\n",
      "#####.###########\n",
      "\n",
      ".................\n",
      "....@............\n",
      ".................\n",
      "#####.###########\n",
      "\n",
      ".................\n",
      ".................\n",
      ".....@...........\n",
      "#####.###########\n",
      "\n",
      ".................\n",
      ".................\n",
      ".................\n",
      "#####@###########\n",
      "\n",
      "\n"
     ]
    }
   ],
   "source": [
    "ascii_comp = ASCII(program)\n",
    "\n",
    "ascii_comp.run_code(['NOT D J', 'WALK'])\n",
    "\n",
    "ascii_comp.draw_ascii()"
   ]
  },
  {
   "cell_type": "markdown",
   "metadata": {},
   "source": [
    "# Q1"
   ]
  },
  {
   "cell_type": "code",
   "execution_count": 49,
   "metadata": {},
   "outputs": [],
   "source": [
    "ascii_comp = ASCII(program)\n",
    "\n",
    "ascii_comp.run_code(\n",
    "    [\"NOT C J\",\n",
    "    \"AND D J\",\n",
    "    \"NOT A T\",\n",
    "    \"OR T J\",\n",
    "    \"WALK\"])"
   ]
  },
  {
   "cell_type": "code",
   "execution_count": 52,
   "metadata": {},
   "outputs": [
    {
     "name": "stdout",
     "output_type": "stream",
     "text": [
      "19358688\n"
     ]
    }
   ],
   "source": [
    "try:\n",
    "    ascii_comp.draw_ascii()\n",
    "except ValueError:\n",
    "    print(ascii_comp.outputs[-1])"
   ]
  },
  {
   "cell_type": "markdown",
   "metadata": {},
   "source": [
    "# Q2"
   ]
  },
  {
   "cell_type": "code",
   "execution_count": 64,
   "metadata": {},
   "outputs": [
    {
     "name": "stdout",
     "output_type": "stream",
     "text": [
      "1141236756\n"
     ]
    }
   ],
   "source": [
    "ascii_comp = ASCII(program)\n",
    "\n",
    "ascii_comp.run_code(\n",
    "    [# 3 ahead\n",
    "    \"NOT C J\",\n",
    "    \"AND D J\",\n",
    "    \"NOT A T\",\n",
    "    \"OR T J\",\n",
    "     # NOT 2 and NOT 5 = NOT (2 OR 5)\n",
    "    \"NOT B T\",\n",
    "    \"NOT T T\",\n",
    "    \"OR E T\",\n",
    "    \"NOT T T\",\n",
    "    \"OR T J\",\n",
    "    # 5 & 9 both holes, don't jump\n",
    "    \"NOT E T\", \n",
    "    \"NOT T T\", \n",
    "    \"OR H T\", \n",
    "    \"AND T J\",\n",
    "    \"RUN\"])\n",
    "\n",
    "try:\n",
    "    ascii_comp.draw_ascii()\n",
    "except ValueError:\n",
    "    print(ascii_comp.outputs[-1])"
   ]
  }
 ],
 "metadata": {
  "kernelspec": {
   "display_name": "Python 3",
   "language": "python",
   "name": "python3"
  },
  "language_info": {
   "codemirror_mode": {
    "name": "ipython",
    "version": 3
   },
   "file_extension": ".py",
   "mimetype": "text/x-python",
   "name": "python",
   "nbconvert_exporter": "python",
   "pygments_lexer": "ipython3",
   "version": "3.7.4"
  }
 },
 "nbformat": 4,
 "nbformat_minor": 4
}
