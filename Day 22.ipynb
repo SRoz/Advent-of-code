{
 "cells": [
  {
   "cell_type": "markdown",
   "metadata": {},
   "source": [
    "# Day 22"
   ]
  },
  {
   "cell_type": "code",
   "execution_count": 1,
   "metadata": {},
   "outputs": [],
   "source": [
    "with open('data/day22.txt') as fn:\n",
    "    instructions = fn.read().split('\\n')"
   ]
  },
  {
   "cell_type": "code",
   "execution_count": 2,
   "metadata": {},
   "outputs": [],
   "source": [
    "def cut(cards, cut):\n",
    "    return cards[cut:] + cards[:cut]"
   ]
  },
  {
   "cell_type": "code",
   "execution_count": 3,
   "metadata": {},
   "outputs": [],
   "source": [
    "def deal_into_stack(cards):\n",
    "    return cards[::-1]"
   ]
  },
  {
   "cell_type": "code",
   "execution_count": 4,
   "metadata": {},
   "outputs": [],
   "source": [
    "def deal_increment(cards, n):\n",
    "    out = cards.copy()\n",
    "    i = 0\n",
    "    for c in cards:\n",
    "        out[i] = c\n",
    "        i = (i+n) % len(cards)\n",
    "    return out\n",
    "        "
   ]
  },
  {
   "cell_type": "code",
   "execution_count": 5,
   "metadata": {},
   "outputs": [],
   "source": [
    "def parse_instruction(instruction, cards):\n",
    "    parts = instruction.split(\" \")\n",
    "    if parts[0] == 'cut':\n",
    "        return cut(cards, int(parts[-1]))\n",
    "    \n",
    "    if (parts[0]=='deal') & (parts[1]=='with'):\n",
    "        return deal_increment(cards, int(parts[-1]))\n",
    "    \n",
    "    if (parts[0]=='deal') & (parts[1]=='into'):\n",
    "        return deal_into_stack(cards)\n",
    "    "
   ]
  },
  {
   "cell_type": "code",
   "execution_count": 6,
   "metadata": {},
   "outputs": [],
   "source": [
    "cards = [i for i in range(10_007)]"
   ]
  },
  {
   "cell_type": "code",
   "execution_count": 7,
   "metadata": {},
   "outputs": [],
   "source": [
    "for inst in instructions:\n",
    "    cards = parse_instruction(inst, cards)"
   ]
  },
  {
   "cell_type": "code",
   "execution_count": 8,
   "metadata": {},
   "outputs": [
    {
     "data": {
      "text/plain": [
       "3036"
      ]
     },
     "execution_count": 8,
     "metadata": {},
     "output_type": "execute_result"
    }
   ],
   "source": [
    "cards.index(2019)"
   ]
  },
  {
   "cell_type": "markdown",
   "metadata": {},
   "source": [
    "### We can do this for 1 card"
   ]
  },
  {
   "cell_type": "code",
   "execution_count": 9,
   "metadata": {},
   "outputs": [],
   "source": [
    "def cut_p(pos, n_card, cut):\n",
    "    return (pos - cut )% n_card"
   ]
  },
  {
   "cell_type": "code",
   "execution_count": 10,
   "metadata": {},
   "outputs": [],
   "source": [
    "def deal_into_stack_p(pos, n_card):\n",
    "    return n_card - pos -1"
   ]
  },
  {
   "cell_type": "code",
   "execution_count": 11,
   "metadata": {},
   "outputs": [],
   "source": [
    "def deal_increment_p(pos, n_card, n):\n",
    "    return (pos * n) % n_card       "
   ]
  },
  {
   "cell_type": "markdown",
   "metadata": {},
   "source": [
    "These can just be composed:"
   ]
  },
  {
   "cell_type": "code",
   "execution_count": 12,
   "metadata": {},
   "outputs": [],
   "source": [
    "pos = 2020\n",
    "n_card = 10_007\n",
    "\n",
    "pos = cut_p(pos, n_card, 500)\n",
    "pos = deal_into_stack_p(pos, n_card)\n",
    "pos = deal_increment_p(pos, n_card, 25)"
   ]
  },
  {
   "cell_type": "code",
   "execution_count": 13,
   "metadata": {},
   "outputs": [
    {
     "data": {
      "text/plain": [
       "2003"
      ]
     },
     "execution_count": 13,
     "metadata": {},
     "output_type": "execute_result"
    }
   ],
   "source": [
    "pos"
   ]
  },
  {
   "cell_type": "markdown",
   "metadata": {},
   "source": [
    "All transformations can be composed to the form:\n",
    "\n",
    "` ax+b % n_card`\n",
    "\n",
    "First year number theory time"
   ]
  },
  {
   "cell_type": "code",
   "execution_count": 14,
   "metadata": {},
   "outputs": [],
   "source": [
    "def cut_t(a, b, cut):\n",
    "    return a, b-cut\n",
    "def deal_into_t(a, b):\n",
    "    return -a, -b-1\n",
    "def deal_increment_t(a, b, n):\n",
    "    return n*a, n*b"
   ]
  },
  {
   "cell_type": "code",
   "execution_count": 15,
   "metadata": {},
   "outputs": [
    {
     "data": {
      "text/plain": [
       "2003"
      ]
     },
     "execution_count": 15,
     "metadata": {},
     "output_type": "execute_result"
    }
   ],
   "source": [
    "a = 1\n",
    "b = 0\n",
    "\n",
    "pos=2020\n",
    "n_card = 10_007\n",
    "\n",
    "a, b = cut_t(a, b, 500)\n",
    "a, b = deal_into_t(a, b)\n",
    "a, b = deal_increment_t(a, b, 25)\n",
    "\n",
    "a = a % n_card\n",
    "b = b % n_card\n",
    "\n",
    "(a * pos + b) % n_card"
   ]
  },
  {
   "cell_type": "code",
   "execution_count": 16,
   "metadata": {},
   "outputs": [],
   "source": [
    "def parse_instruction_t(instruction, a, b):\n",
    "    parts = instruction.split(\" \")\n",
    "    if parts[0] == 'cut':\n",
    "        return cut_t(a, b, int(parts[-1]))\n",
    "    \n",
    "    if (parts[0]=='deal') & (parts[1]=='with'):\n",
    "        return deal_increment_t(a, b, int(parts[-1]))\n",
    "    \n",
    "    if (parts[0]=='deal') & (parts[1]=='into'):\n",
    "        return deal_into_t(a, b)\n",
    "    "
   ]
  },
  {
   "cell_type": "code",
   "execution_count": 17,
   "metadata": {},
   "outputs": [],
   "source": [
    "a = 1\n",
    "b = 0\n",
    "for inst in instructions:\n",
    "    a, b = parse_instruction_t(inst, a, b)\n",
    "    a = a % n_card\n",
    "    b = b % n_card"
   ]
  },
  {
   "cell_type": "code",
   "execution_count": 18,
   "metadata": {},
   "outputs": [
    {
     "data": {
      "text/plain": [
       "(6833, 6862)"
      ]
     },
     "execution_count": 18,
     "metadata": {},
     "output_type": "execute_result"
    }
   ],
   "source": [
    "a, b"
   ]
  },
  {
   "cell_type": "code",
   "execution_count": 19,
   "metadata": {},
   "outputs": [
    {
     "data": {
      "text/plain": [
       "3036"
      ]
     },
     "execution_count": 19,
     "metadata": {},
     "output_type": "execute_result"
    }
   ],
   "source": [
    "pos = 2019\n",
    "(a * pos + b) % n_card"
   ]
  },
  {
   "cell_type": "markdown",
   "metadata": {},
   "source": [
    "# Q2"
   ]
  },
  {
   "cell_type": "code",
   "execution_count": 20,
   "metadata": {},
   "outputs": [],
   "source": [
    "times = 101741582076661\n",
    "n_card = 119315717514047"
   ]
  },
  {
   "cell_type": "code",
   "execution_count": 21,
   "metadata": {},
   "outputs": [],
   "source": [
    "a = 1\n",
    "b = 0\n",
    "for inst in instructions:\n",
    "    a, b = parse_instruction_t(inst, a, b)\n",
    "    a = a % n_card\n",
    "    b = b % n_card"
   ]
  },
  {
   "cell_type": "code",
   "execution_count": 22,
   "metadata": {},
   "outputs": [
    {
     "data": {
      "text/plain": [
       "(85946586836261, 89183823480133)"
      ]
     },
     "execution_count": 22,
     "metadata": {},
     "output_type": "execute_result"
    }
   ],
   "source": [
    "a, b"
   ]
  },
  {
   "cell_type": "markdown",
   "metadata": {},
   "source": [
    "Is a coprime to n_card? - We can find inverse if so"
   ]
  },
  {
   "cell_type": "code",
   "execution_count": 23,
   "metadata": {},
   "outputs": [],
   "source": [
    "# from google/stackoverflow\n",
    "def gcd(a, b):\n",
    "    while b != 0:\n",
    "        a, b = b, a % b\n",
    "    return a\n",
    "\n",
    "def coprime(a, b):\n",
    "    return gcd(a, b) == 1"
   ]
  },
  {
   "cell_type": "code",
   "execution_count": 24,
   "metadata": {},
   "outputs": [
    {
     "data": {
      "text/plain": [
       "True"
      ]
     },
     "execution_count": 24,
     "metadata": {},
     "output_type": "execute_result"
    }
   ],
   "source": [
    "coprime(a,n_card)"
   ]
  },
  {
   "cell_type": "markdown",
   "metadata": {},
   "source": [
    "We can use a-1"
   ]
  },
  {
   "cell_type": "code",
   "execution_count": 25,
   "metadata": {},
   "outputs": [],
   "source": [
    "# From google/stackoverflow\n",
    "def modInverse(a, m) : \n",
    "    m0 = m \n",
    "    y = 0\n",
    "    x = 1\n",
    "  \n",
    "    if (m == 1) : \n",
    "        return 0\n",
    "  \n",
    "    while (a > 1) : \n",
    "  \n",
    "        # q is quotient \n",
    "        q = a // m \n",
    "  \n",
    "        t = m \n",
    "  \n",
    "        # m is remainder now, process \n",
    "        # same as Euclid's algo \n",
    "        m = a % m \n",
    "        a = t \n",
    "        t = y \n",
    "  \n",
    "        # Update x and y \n",
    "        y = x - q * y \n",
    "        x = t \n",
    "  \n",
    "  \n",
    "    # Make x positive \n",
    "    if (x < 0) : \n",
    "        x = x + m0 \n",
    "  \n",
    "    return x "
   ]
  },
  {
   "cell_type": "code",
   "execution_count": 26,
   "metadata": {},
   "outputs": [],
   "source": [
    "a_inv = modInverse(a, n_card) % n_card\n",
    "b_inv = -(a_inv * b) % n_card"
   ]
  },
  {
   "cell_type": "markdown",
   "metadata": {},
   "source": [
    "### Test the inverse"
   ]
  },
  {
   "cell_type": "code",
   "execution_count": 27,
   "metadata": {},
   "outputs": [
    {
     "data": {
      "text/plain": [
       "96920249788968"
      ]
     },
     "execution_count": 27,
     "metadata": {},
     "output_type": "execute_result"
    }
   ],
   "source": [
    "(a * 2020 + b) % n_card"
   ]
  },
  {
   "cell_type": "code",
   "execution_count": 28,
   "metadata": {},
   "outputs": [
    {
     "data": {
      "text/plain": [
       "2020"
      ]
     },
     "execution_count": 28,
     "metadata": {},
     "output_type": "execute_result"
    }
   ],
   "source": [
    "(a_inv * 96920249788968 + b_inv) % n_card"
   ]
  },
  {
   "cell_type": "markdown",
   "metadata": {},
   "source": [
    "Do it 101741582076661 times"
   ]
  },
  {
   "cell_type": "markdown",
   "metadata": {},
   "source": [
    "We can series expand the powers"
   ]
  },
  {
   "cell_type": "markdown",
   "metadata": {},
   "source": [
    "$$f(x) = ax + b$$\n",
    "\n",
    "$$f^{n}(x) = a^n x + \\frac{b(1-a^n)}{1-a}$$"
   ]
  },
  {
   "cell_type": "code",
   "execution_count": 29,
   "metadata": {},
   "outputs": [],
   "source": [
    "a_final = pow(a_inv, times, n_card)\n",
    "b_final = b_inv*(((pow(a_inv, times, n_card)-1)) * modInverse((a_inv-1), n_card)) % n_card"
   ]
  },
  {
   "cell_type": "code",
   "execution_count": 30,
   "metadata": {},
   "outputs": [
    {
     "data": {
      "text/plain": [
       "70618172909245"
      ]
     },
     "execution_count": 30,
     "metadata": {},
     "output_type": "execute_result"
    }
   ],
   "source": [
    "(a_final * 2020 + b_final) % n_card"
   ]
  }
 ],
 "metadata": {
  "kernelspec": {
   "display_name": "Python 3",
   "language": "python",
   "name": "python3"
  },
  "language_info": {
   "codemirror_mode": {
    "name": "ipython",
    "version": 3
   },
   "file_extension": ".py",
   "mimetype": "text/x-python",
   "name": "python",
   "nbconvert_exporter": "python",
   "pygments_lexer": "ipython3",
   "version": "3.7.4"
  }
 },
 "nbformat": 4,
 "nbformat_minor": 4
}
