{
 "cells": [
  {
   "cell_type": "markdown",
   "metadata": {},
   "source": [
    "# Day 10"
   ]
  },
  {
   "cell_type": "code",
   "execution_count": 1,
   "metadata": {},
   "outputs": [],
   "source": [
    "grid = \"\"\".###..#......###..#...#\n",
    "#.#..#.##..###..#...#.#\n",
    "#.#.#.##.#..##.#.###.##\n",
    ".#..#...####.#.##..##..\n",
    "#.###.#.####.##.#######\n",
    "..#######..##..##.#.###\n",
    ".##.#...##.##.####..###\n",
    "....####.####.#########\n",
    "#.########.#...##.####.\n",
    ".#.#..#.#.#.#.##.###.##\n",
    "#..#.#..##...#..#.####.\n",
    ".###.#.#...###....###..\n",
    "###..#.###..###.#.###.#\n",
    "...###.##.#.##.#...#..#\n",
    "#......#.#.##..#...#.#.\n",
    "###.##.#..##...#..#.#.#\n",
    "###..###..##.##..##.###\n",
    "###.###.####....######.\n",
    ".###.#####.#.#.#.#####.\n",
    "##.#.###.###.##.##..##.\n",
    "##.#..#..#..#.####.#.#.\n",
    ".#.#.#.##.##########..#\n",
    "#####.##......#.#.####.\"\"\""
   ]
  },
  {
   "cell_type": "code",
   "execution_count": 2,
   "metadata": {},
   "outputs": [],
   "source": [
    "import numpy as np"
   ]
  },
  {
   "cell_type": "code",
   "execution_count": 3,
   "metadata": {},
   "outputs": [],
   "source": [
    "matrix = np.array([list(i) for i in grid.split(\"\\n\")])"
   ]
  },
  {
   "cell_type": "markdown",
   "metadata": {},
   "source": [
    "# Q1 \n",
    "Use the complex half plane. We'll mirror in the real axis"
   ]
  },
  {
   "cell_type": "code",
   "execution_count": 4,
   "metadata": {},
   "outputs": [],
   "source": [
    "asteriods = [np.complex(index[1], index[0]) for index, x in np.ndenumerate(matrix) if x==\"#\"]"
   ]
  },
  {
   "cell_type": "code",
   "execution_count": 5,
   "metadata": {},
   "outputs": [],
   "source": [
    "max_seen = 0\n",
    "best_ast = None\n",
    "for ast1 in asteriods:\n",
    "    angles = [np.angle(ast2-ast1) for ast2 in asteriods if ast1!=ast2]\n",
    "    seen = len(np.unique(angles))\n",
    "    if seen > max_seen:\n",
    "        max_seen = seen\n",
    "        best_ast = ast1\n",
    "    "
   ]
  },
  {
   "cell_type": "code",
   "execution_count": 6,
   "metadata": {},
   "outputs": [
    {
     "data": {
      "text/plain": [
       "((19+11j), 230)"
      ]
     },
     "execution_count": 6,
     "metadata": {},
     "output_type": "execute_result"
    }
   ],
   "source": [
    "best_ast, max_seen"
   ]
  },
  {
   "cell_type": "markdown",
   "metadata": {},
   "source": [
    "# Q2"
   ]
  },
  {
   "cell_type": "code",
   "execution_count": 7,
   "metadata": {},
   "outputs": [],
   "source": [
    "import pandas as pd"
   ]
  },
  {
   "cell_type": "code",
   "execution_count": 8,
   "metadata": {},
   "outputs": [],
   "source": [
    "df = pd.DataFrame({\n",
    "    'asteriod' : [ast for ast in asteriods if best_ast!=ast],\n",
    "    'angles' : [(np.pi/2 + np.angle(ast-best_ast)) % (2*np.pi) for ast in asteriods if best_ast!=ast],\n",
    "    'distances' : [np.abs(ast-best_ast) for ast in asteriods if best_ast!=ast]\n",
    "})"
   ]
  },
  {
   "cell_type": "code",
   "execution_count": 9,
   "metadata": {},
   "outputs": [],
   "source": [
    "df['zapping_order'] = df.sort_values('distances').groupby('angles').cumcount()\n",
    "\n",
    "df = df.sort_values(['zapping_order','angles']).reset_index(drop=True)"
   ]
  },
  {
   "cell_type": "code",
   "execution_count": 10,
   "metadata": {},
   "outputs": [
    {
     "data": {
      "text/plain": [
       "asteriod         12.000000+5.000000j\n",
       "angles            5.421015+0.000000j\n",
       "distances         9.219544+0.000000j\n",
       "zapping_order     0.000000+0.000000j\n",
       "Name: 199, dtype: complex128"
      ]
     },
     "execution_count": 10,
     "metadata": {},
     "output_type": "execute_result"
    }
   ],
   "source": [
    "df.iloc[199]"
   ]
  }
 ],
 "metadata": {
  "kernelspec": {
   "display_name": "Python 3",
   "language": "python",
   "name": "python3"
  },
  "language_info": {
   "codemirror_mode": {
    "name": "ipython",
    "version": 3
   },
   "file_extension": ".py",
   "mimetype": "text/x-python",
   "name": "python",
   "nbconvert_exporter": "python",
   "pygments_lexer": "ipython3",
   "version": "3.7.4"
  }
 },
 "nbformat": 4,
 "nbformat_minor": 4
}
