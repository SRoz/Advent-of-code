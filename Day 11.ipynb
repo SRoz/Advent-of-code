{
 "cells": [
  {
   "cell_type": "markdown",
   "metadata": {},
   "source": [
    "# Day 11"
   ]
  },
  {
   "cell_type": "code",
   "execution_count": 1,
   "metadata": {},
   "outputs": [],
   "source": [
    "class IntcodeComputer:\n",
    "    def __init__(self, bits):\n",
    "        self.bits = bits.copy() + [0]* 100_000\n",
    "        self.i = 0\n",
    "        self.outputs = []\n",
    "        self.inputs = []\n",
    "        self.input_i = 0\n",
    "        self.relative_base = 0 \n",
    "        self.state = 'Not Started'\n",
    "\n",
    "        \n",
    "    def _apply_mode(self, instruction, i):\n",
    "        mode = int(instruction[-2-i])\n",
    "        loc = self.i + i\n",
    "        \n",
    "        if mode == 0:\n",
    "            return self.bits[self.bits[loc]]\n",
    "        elif mode == 1:\n",
    "            return self.bits[loc]\n",
    "        elif mode ==2:\n",
    "            return self.bits[self.relative_base + self.bits[loc]]\n",
    "    \n",
    "    def _write_mode(self, instruction, i, write):\n",
    "        if instruction[-2-i] == '0':\n",
    "            self.bits[self.bits[self.i+i]] = write\n",
    "        else:\n",
    "            self.bits[self.bits[self.i+i] + self.relative_base] = write\n",
    "    \n",
    "    def run(self, inputs=[]):\n",
    "        if isinstance(inputs, list):\n",
    "            self.inputs += inputs\n",
    "        else:\n",
    "            self.inputs += [inputs]\n",
    "\n",
    "        while True:\n",
    "            instruction = (\"00000\" + str(self.bits[self.i]))[-6:]\n",
    "            opcode = int(instruction[-2:])\n",
    "                        \n",
    "            if opcode == 99:\n",
    "                self.state = 'Finished'\n",
    "                return int(self.outputs[-1])\n",
    "            elif opcode == 1:\n",
    "                p1 = self._apply_mode(instruction, 1)\n",
    "                p2 = self._apply_mode(instruction, 2)\n",
    "                \n",
    "                self._write_mode(instruction, 3, p1+p2)\n",
    "                self.i = self.i+4\n",
    "            elif opcode == 2:\n",
    "                p1 = self._apply_mode(instruction, 1)\n",
    "                p2 = self._apply_mode(instruction, 2)\n",
    "                \n",
    "                self._write_mode(instruction, 3, p1*p2)\n",
    "                self.i = self.i+4\n",
    "            elif opcode == 3:\n",
    "                if len(self.inputs) <= self.input_i:\n",
    "                    self.state = 'Paused'\n",
    "                    if len(self.outputs) > 0:\n",
    "                        return int(self.outputs[-1])\n",
    "                    else:\n",
    "                        return None\n",
    "                \n",
    "                self._write_mode(instruction, 1, self.inputs[self.input_i])                \n",
    "                self.input_i += 1\n",
    "                self.i = self.i+2\n",
    "            elif opcode == 4:\n",
    "                output_val = self._apply_mode(instruction, 1)\n",
    "                self.outputs += [output_val]\n",
    "                self.i = self.i+2\n",
    "            elif opcode == 5:\n",
    "                p1 = self._apply_mode(instruction, 1)\n",
    "                p2 = self._apply_mode(instruction, 2)\n",
    "\n",
    "                if p1 > 0:\n",
    "                    self.i = p2\n",
    "                else:\n",
    "                    self.i = self.i+3\n",
    "            elif opcode == 6:\n",
    "                p1 = self._apply_mode(instruction, 1)\n",
    "                p2 = self._apply_mode(instruction, 2)\n",
    "\n",
    "                if p1 == 0:\n",
    "                    self.i = p2\n",
    "                else:\n",
    "                    self.i = self.i+3\n",
    "            elif opcode == 7:\n",
    "                p1 = self._apply_mode(instruction, 1)\n",
    "                p2 = self._apply_mode(instruction, 2)\n",
    "                p3 = self._apply_mode(instruction, 3)\n",
    "                if p1 < p2:\n",
    "                    self._write_mode(instruction, 3, 1)\n",
    "                    #self.bits[self.bits[self.i+3]] = 1\n",
    "                else:\n",
    "                    self._write_mode(instruction, 3, 0)\n",
    "                    #self.bits[self.bits[self.i+3]] = 0\n",
    "                self.i = self.i+4\n",
    "            elif opcode == 8:\n",
    "                p1 = self._apply_mode(instruction, 1)\n",
    "                p2 = self._apply_mode(instruction, 2)\n",
    "                p3 = self._apply_mode(instruction, 3)\n",
    "                if p1 == p2:\n",
    "                    self._write_mode(instruction, 3, 1)\n",
    "                    #self.bits[self.bits[self.i+3]] = 1\n",
    "                else:\n",
    "                    self._write_mode(instruction, 3, 0)\n",
    "                    #self.bits[self.bits[self.i+3]] = 0\n",
    "                self.i = self.i+4            \n",
    "            elif opcode == 9:\n",
    "                self.relative_base = self.relative_base + self._apply_mode(instruction, 1)\n",
    "                self.i = self.i+2"
   ]
  },
  {
   "cell_type": "code",
   "execution_count": 2,
   "metadata": {},
   "outputs": [],
   "source": [
    "from collections import defaultdict"
   ]
  },
  {
   "cell_type": "code",
   "execution_count": 3,
   "metadata": {},
   "outputs": [],
   "source": [
    "class Robot():\n",
    "    def __init__(self, intcode):\n",
    "        self.brain = IntcodeComputer(intcode)\n",
    "        self.facing = 0\n",
    "        self.positions = [(0,0)] \n",
    "        self.colours = defaultdict(lambda : 0)\n",
    "        \n",
    "    def make_step(self):\n",
    "        pos = self.positions[-1]\n",
    "        col = self.colours[pos]\n",
    "        self.brain.run(col)\n",
    "        col, turn = self.brain.outputs[-2:]\n",
    "        self.colours[pos] = col\n",
    "        \n",
    "        turn = 90 if turn == 1 else -90\n",
    "        self.facing = (self.facing + turn) % 360\n",
    "        \n",
    "        if self.facing==0:\n",
    "            dx, dy = (0,1)\n",
    "        elif self.facing==90:\n",
    "            dx, dy = (1,0)\n",
    "        elif self.facing==180:\n",
    "            dx, dy = (0,-1)\n",
    "        else:\n",
    "            dx, dy = (-1,0)\n",
    "        \n",
    "        x, y = pos\n",
    "        self.positions += [(x+dx, y+dy)]\n",
    "    \n",
    "    def set_robot_off(self):\n",
    "        while self.brain.state!='Finished':\n",
    "            self.make_step()\n",
    "            \n",
    "    def make_grid(self):\n",
    "        mins = np.array(self.positions).min(axis=0)\n",
    "        maxs = np.array(self.positions).max(axis=0)\n",
    "        center = np.array((2-mins[1], 2-mins[0], 0))\n",
    "        \n",
    "        grid = np.array([['.' for _ in range(mins[1]-2, maxs[1]+3)] for _ in range(mins[0]-2, maxs[0]+3)])\n",
    "        \n",
    "        for p in self.positions:\n",
    "            pos = p+center\n",
    "            grid[pos[0],pos[1]] = '#' if  p[2] == 1 else '.'\n",
    "        \n",
    "        if self.facing==0:\n",
    "            grid[pos[0], pos[1]+1] = \"^\"\n",
    "        elif self.facing==90:\n",
    "            grid[pos[0]+1, pos[1]] = \">\"\n",
    "        elif self.facing==180:\n",
    "            grid[pos[0], pos[1]-1] = \"v\"\n",
    "        else:\n",
    "            grid[pos[0]-1, pos[1]] = \"<\"\n",
    "        \n",
    "        return grid\n"
   ]
  },
  {
   "cell_type": "code",
   "execution_count": 4,
   "metadata": {},
   "outputs": [],
   "source": [
    "with open('data/day11.txt') as fn:\n",
    "    intcode = fn.readline().split(',')\n",
    "    intcode = [int(b) for b in intcode]"
   ]
  },
  {
   "cell_type": "markdown",
   "metadata": {},
   "source": [
    "# Q1"
   ]
  },
  {
   "cell_type": "code",
   "execution_count": 5,
   "metadata": {},
   "outputs": [
    {
     "data": {
      "text/plain": [
       "2336"
      ]
     },
     "execution_count": 5,
     "metadata": {},
     "output_type": "execute_result"
    }
   ],
   "source": [
    "robot = Robot(intcode)\n",
    "robot.set_robot_off()\n",
    "len(robot.colours)"
   ]
  },
  {
   "cell_type": "markdown",
   "metadata": {},
   "source": [
    "# Q2"
   ]
  },
  {
   "cell_type": "code",
   "execution_count": 6,
   "metadata": {},
   "outputs": [],
   "source": [
    "robot = Robot(intcode)\n",
    "robot.colours[(0,0)] = 1\n",
    "robot.set_robot_off()"
   ]
  },
  {
   "cell_type": "code",
   "execution_count": 7,
   "metadata": {},
   "outputs": [],
   "source": [
    "import matplotlib.pyplot as plt"
   ]
  },
  {
   "cell_type": "code",
   "execution_count": 8,
   "metadata": {},
   "outputs": [],
   "source": [
    "xrange, yrange = [[func([k[i] for k in robot.colours.keys()]) for func in [min, max]] for i in range(0,2)]"
   ]
  },
  {
   "cell_type": "code",
   "execution_count": 9,
   "metadata": {},
   "outputs": [],
   "source": [
    "matrix = []\n",
    "for y in range(yrange[1], yrange[0]-1,-1):\n",
    "    row = []\n",
    "    for x in range(xrange[0], xrange[1]+1):\n",
    "        row.append(robot.colours[(x,y)])\n",
    "    matrix.append(row)\n",
    "        "
   ]
  },
  {
   "cell_type": "code",
   "execution_count": 10,
   "metadata": {},
   "outputs": [
    {
     "data": {
      "image/png": "[encoded data removed]",
      "text/plain": [
       "<Figure size 432x288 with 1 Axes>"
      ]
     },
     "metadata": {
      "needs_background": "light"
     },
     "output_type": "display_data"
    }
   ],
   "source": [
    "plt.imshow(matrix);"
   ]
  }
 ],
 "metadata": {
  "kernelspec": {
   "display_name": "Python 3",
   "language": "python",
   "name": "python3"
  },
  "language_info": {
   "codemirror_mode": {
    "name": "ipython",
    "version": 3
   },
   "file_extension": ".py",
   "mimetype": "text/x-python",
   "name": "python",
   "nbconvert_exporter": "python",
   "pygments_lexer": "ipython3",
   "version": "3.7.4"
  }
 },
 "nbformat": 4,
 "nbformat_minor": 4
}
