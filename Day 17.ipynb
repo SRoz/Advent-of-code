{
 "cells": [
  {
   "cell_type": "markdown",
   "metadata": {},
   "source": [
    "# Day 17"
   ]
  },
  {
   "cell_type": "code",
   "execution_count": 1,
   "metadata": {},
   "outputs": [],
   "source": [
    "from intcode_machine import IntcodeComputer"
   ]
  },
  {
   "cell_type": "code",
   "execution_count": 2,
   "metadata": {},
   "outputs": [],
   "source": [
    "with open('data/day17.txt') as fn:\n",
    "    program = fn.readlines()\n",
    "    program = [int(i) for i in program[0].split(',')]"
   ]
  },
  {
   "cell_type": "code",
   "execution_count": 3,
   "metadata": {},
   "outputs": [],
   "source": [
    "ASCII = IntcodeComputer(program)"
   ]
  },
  {
   "cell_type": "code",
   "execution_count": 4,
   "metadata": {},
   "outputs": [
    {
     "data": {
      "text/plain": [
       "10"
      ]
     },
     "execution_count": 4,
     "metadata": {},
     "output_type": "execute_result"
    }
   ],
   "source": [
    "ASCII.run()"
   ]
  },
  {
   "cell_type": "code",
   "execution_count": 5,
   "metadata": {},
   "outputs": [],
   "source": [
    "def draw_ascii(outputs):\n",
    "    print(\"\".join([chr(x) for x in outputs]))\n",
    "        "
   ]
  },
  {
   "cell_type": "code",
   "execution_count": 6,
   "metadata": {},
   "outputs": [
    {
     "name": "stdout",
     "output_type": "stream",
     "text": [
      "..............###########.###########................\n",
      "..............#.........#.#.........#................\n",
      "..............#.......#########.....#................\n",
      "..............#.......#.#.#...#.....#................\n",
      "..............#.......#.#.#...#.....#................\n",
      "..............#.......#.#.#...#.....#................\n",
      "..............#.#########.#...#.....#................\n",
      "..............#.#.....#...#...#.....#................\n",
      "..............#.#.....#...#########.#................\n",
      "..............#.#.....#.......#...#.#................\n",
      "..............#########.......#######................\n",
      "................#.................#..................\n",
      "................#...........#########................\n",
      "................#...........#.....#.#................\n",
      "................#########...#.....#.#................\n",
      "........................#...#.....#.#................\n",
      "........................#...#.....#.#................\n",
      "........................#...#.......#................\n",
      "........................#...#.......#######..........\n",
      "........................#...#.............#..........\n",
      "....................#########.............#..........\n",
      "....................#...#.................#..........\n",
      "..................#######.................#..........\n",
      "..................#.#.....................#..........\n",
      "..................#.#.....................#..........\n",
      "..................#.#.....................#..........\n",
      "..................#.#.....................##########^\n",
      "..................#.#................................\n",
      "#######...#########.#................................\n",
      "#.....#...#.........#................................\n",
      "#.....#...#.#########................................\n",
      "#.....#...#.#........................................\n",
      "#.....#...#.#........................................\n",
      "#.....#...#.#........................................\n",
      "#.....#...#.#........................................\n",
      "#.....#...#.#........................................\n",
      "#.....#######........................................\n",
      "#.........#..........................................\n",
      "###########..........................................\n",
      "\n",
      "\n"
     ]
    }
   ],
   "source": [
    "a = draw_ascii(ASCII.outputs)"
   ]
  },
  {
   "cell_type": "code",
   "execution_count": 7,
   "metadata": {},
   "outputs": [],
   "source": [
    "import numpy as np\n",
    "\n",
    "def ascii_to_array(outputs):\n",
    "    char_array = np.array([chr(x) for x in outputs])\n",
    "    rowsize = np.where(char_array== '\\n')[0][0] + 1\n",
    "    return char_array[:-1].reshape(-1, rowsize)[:,:-1]\n"
   ]
  },
  {
   "cell_type": "code",
   "execution_count": 8,
   "metadata": {},
   "outputs": [],
   "source": [
    "array = ascii_to_array(ASCII.outputs)"
   ]
  },
  {
   "cell_type": "code",
   "execution_count": 9,
   "metadata": {},
   "outputs": [],
   "source": [
    "intersections = []\n",
    "for i in range(1,array.shape[0]-1):\n",
    "    for j in range(1,array.shape[1]-1):\n",
    "        if all([array[i, j]=='#',\n",
    "              array[i+1, j]=='#',\n",
    "              array[i-1, j]=='#',\n",
    "              array[i, j+1]=='#',\n",
    "              array[i, j-1]=='#']):\n",
    "            intersections.append((i,j))"
   ]
  },
  {
   "cell_type": "code",
   "execution_count": 10,
   "metadata": {},
   "outputs": [
    {
     "data": {
      "text/plain": [
       "2660"
      ]
     },
     "execution_count": 10,
     "metadata": {},
     "output_type": "execute_result"
    }
   ],
   "source": [
    "np.sum([np.product(i) for i in intersections])"
   ]
  },
  {
   "cell_type": "markdown",
   "metadata": {},
   "source": [
    "# Q2"
   ]
  },
  {
   "cell_type": "code",
   "execution_count": 11,
   "metadata": {},
   "outputs": [],
   "source": [
    "starting_point = np.where(array=='^')"
   ]
  },
  {
   "cell_type": "code",
   "execution_count": 12,
   "metadata": {},
   "outputs": [],
   "source": [
    "starting_point = [starting_point[0][0], starting_point[1][0]]"
   ]
  },
  {
   "cell_type": "code",
   "execution_count": 108,
   "metadata": {},
   "outputs": [],
   "source": [
    "direction = 'L'\n",
    "point = starting_point.copy()\n",
    "\n",
    "def go(point, turn, facing):\n",
    "    i = 0\n",
    "    \n",
    "    r_map = {'U' : 'R', 'L' : 'U', 'D' : 'L', 'R' :'D'}\n",
    "    l_map = {v : k for k, v in r_map.items()}\n",
    "    if turn =='R':\n",
    "        facing = r_map[facing]\n",
    "    elif turn =='L':\n",
    "        facing = l_map[facing]\n",
    "\n",
    "    while True:\n",
    "        if facing == 'L':\n",
    "            newpoint = [point[0], point[1]-1]\n",
    "        elif facing == 'R':\n",
    "            newpoint = [point[0], point[1]+1]\n",
    "        elif facing == 'D':\n",
    "            newpoint = [point[0]+1, point[1]]\n",
    "        elif facing == 'U':\n",
    "            newpoint = [point[0]-1, point[1]]\n",
    "        \n",
    "        try:\n",
    "            if array[newpoint[0], newpoint[1]]!='#':\n",
    "                break\n",
    "        except:\n",
    "            break\n",
    "        point=newpoint.copy()\n",
    "        i+=1\n",
    "    \n",
    "    #print(point, facing)\n",
    "    return turn, i, point, facing"
   ]
  },
  {
   "cell_type": "code",
   "execution_count": 111,
   "metadata": {},
   "outputs": [],
   "source": [
    "directions = []"
   ]
  },
  {
   "cell_type": "code",
   "execution_count": 112,
   "metadata": {},
   "outputs": [],
   "source": [
    "point = starting_point\n",
    "facing = 'U'\n",
    "\n",
    "for direction in ['L', 'R', 'L', 'R',\n",
    "                  'L', 'L','R', 'L',\n",
    "                 'R', 'L', 'R' , 'R',\n",
    "                 'L' , 'L','L','L',\n",
    "                 'R','L', 'R', 'L',\n",
    "                 'L', 'R', 'R', 'L',\n",
    "                 'L', 'L', 'L', 'L',\n",
    "                 'R','R','L','L',\n",
    "                 'L','L','L','R']:\n",
    "    turn, i, point, facing = go(point, turn=direction, facing=facing)\n",
    "    #assert point!= old_point, 'Err'\n",
    "    old_point = point\n",
    "    directions += [turn, i]"
   ]
  },
  {
   "cell_type": "code",
   "execution_count": 136,
   "metadata": {},
   "outputs": [],
   "source": [
    "def pop_seq(seq, sub_seq):\n",
    "    seq = seq.copy()\n",
    "    for i in range(len(seq) - len(sub_seq)+1):\n",
    "        if seq[i:(i+len(sub_seq))] == sub_seq:\n",
    "            seq[i:(i+len(sub_seq))] = [None for _ in range(len(sub_seq))]\n",
    "    return [s for s in seq if s is not None]"
   ]
  },
  {
   "cell_type": "code",
   "execution_count": 159,
   "metadata": {},
   "outputs": [
    {
     "name": "stdout",
     "output_type": "stream",
     "text": [
      "(8, 6, 8)\n",
      "(8, 12, 12)\n",
      "(8, 14, 6)\n",
      "(8, 16, 16)\n",
      "(8, 18, 12)\n",
      "(14, 16, 14)\n"
     ]
    }
   ],
   "source": [
    "min_l = 100\n",
    "for i in range(0, 22, 2):\n",
    "    sub_seq = pop_seq(directions, directions[:i])\n",
    "    for j in range(0,20, 2):\n",
    "        sub_seq_1 = pop_seq(sub_seq, sub_seq[:j])\n",
    "        for k in range(0, 18, 2):\n",
    "            sub_seq_2 = pop_seq(sub_seq_1, sub_seq_1[:k])\n",
    "            if len(sub_seq_2)==0:\n",
    "                print(f\"{i,j,k}\")\n",
    "                break\n"
   ]
  },
  {
   "cell_type": "code",
   "execution_count": 160,
   "metadata": {},
   "outputs": [],
   "source": [
    "A = directions[:8]\n",
    "sub_seq = pop_seq(directions, A)"
   ]
  },
  {
   "cell_type": "code",
   "execution_count": 161,
   "metadata": {},
   "outputs": [],
   "source": [
    "B = sub_seq[:6]\n",
    "sub_seq = pop_seq(sub_seq, B)"
   ]
  },
  {
   "cell_type": "code",
   "execution_count": 162,
   "metadata": {},
   "outputs": [],
   "source": [
    "C = sub_seq[:8]\n",
    "sub_seq = pop_seq(sub_seq, C)"
   ]
  },
  {
   "cell_type": "code",
   "execution_count": 163,
   "metadata": {},
   "outputs": [
    {
     "data": {
      "text/plain": [
       "['L', 10, 'R', 8, 'L', 6, 'R', 6]"
      ]
     },
     "execution_count": 163,
     "metadata": {},
     "output_type": "execute_result"
    }
   ],
   "source": [
    "A"
   ]
  },
  {
   "cell_type": "code",
   "execution_count": 164,
   "metadata": {},
   "outputs": [
    {
     "data": {
      "text/plain": [
       "['L', 8, 'L', 8, 'R', 8]"
      ]
     },
     "execution_count": 164,
     "metadata": {},
     "output_type": "execute_result"
    }
   ],
   "source": [
    "B"
   ]
  },
  {
   "cell_type": "code",
   "execution_count": 165,
   "metadata": {},
   "outputs": [
    {
     "data": {
      "text/plain": [
       "['R', 8, 'L', 6, 'L', 10, 'L', 10]"
      ]
     },
     "execution_count": 165,
     "metadata": {},
     "output_type": "execute_result"
    }
   ],
   "source": [
    "C"
   ]
  },
  {
   "cell_type": "code",
   "execution_count": 180,
   "metadata": {},
   "outputs": [
    {
     "name": "stdout",
     "output_type": "stream",
     "text": [
      "True\n"
     ]
    }
   ],
   "source": [
    "X = A+B+A+C+A+B+C+B+C+B \n",
    "print(X == directions[:(len(X))])"
   ]
  },
  {
   "cell_type": "markdown",
   "metadata": {},
   "source": [
    "## Into the computer"
   ]
  },
  {
   "cell_type": "code",
   "execution_count": 183,
   "metadata": {},
   "outputs": [],
   "source": [
    "main_routine = ['A', 'B', 'A', 'C', 'A', 'B', 'C', 'B', 'C', 'B']"
   ]
  },
  {
   "cell_type": "code",
   "execution_count": 213,
   "metadata": {},
   "outputs": [],
   "source": [
    "program2 = program.copy()\n",
    "program2[0] = 2"
   ]
  },
  {
   "cell_type": "code",
   "execution_count": 236,
   "metadata": {},
   "outputs": [],
   "source": [
    "def make_code(inp):\n",
    "    code = [[ord(str(i)[0]),44] if len(str(i))==1 else [ord(str(i)[0]),ord(str(i)[1]),44] for i in inp]\n",
    "    code = [d for c in code for d in c]\n",
    "    code[-1] = 10\n",
    "    return code"
   ]
  },
  {
   "cell_type": "code",
   "execution_count": 248,
   "metadata": {},
   "outputs": [],
   "source": [
    "code1 = make_code(main_routine)\n",
    "code2 = make_code(A)\n",
    "code3 = make_code(B)\n",
    "code4 = make_code(C)\n",
    "code5 = make_code(['n'])"
   ]
  },
  {
   "cell_type": "code",
   "execution_count": 256,
   "metadata": {},
   "outputs": [],
   "source": [
    "ASCII2 = IntcodeComputer(program2)"
   ]
  },
  {
   "cell_type": "code",
   "execution_count": 257,
   "metadata": {},
   "outputs": [
    {
     "data": {
      "text/plain": [
       "790595"
      ]
     },
     "execution_count": 257,
     "metadata": {},
     "output_type": "execute_result"
    }
   ],
   "source": [
    "ASCII2.run(code1)\n",
    "ASCII2.run(code2)\n",
    "ASCII2.run(code3)\n",
    "ASCII2.run(code4)\n",
    "ASCII2.run(code5)"
   ]
  }
 ],
 "metadata": {
  "kernelspec": {
   "display_name": "Python 3",
   "language": "python",
   "name": "python3"
  },
  "language_info": {
   "codemirror_mode": {
    "name": "ipython",
    "version": 3
   },
   "file_extension": ".py",
   "mimetype": "text/x-python",
   "name": "python",
   "nbconvert_exporter": "python",
   "pygments_lexer": "ipython3",
   "version": "3.7.4"
  }
 },
 "nbformat": 4,
 "nbformat_minor": 4
}
