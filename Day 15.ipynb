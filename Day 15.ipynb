{
 "cells": [
  {
   "cell_type": "markdown",
   "metadata": {},
   "source": [
    "#  Day 15\n",
    "TIL about implemnting backtracking"
   ]
  },
  {
   "cell_type": "code",
   "execution_count": 866,
   "metadata": {},
   "outputs": [],
   "source": [
    "from intcode_machine import IntcodeComputer\n",
    "from collections import defaultdict\n",
    "from itertools import cycle\n",
    "from random import choice"
   ]
  },
  {
   "cell_type": "code",
   "execution_count": 665,
   "metadata": {},
   "outputs": [],
   "source": [
    "with open('data/day15.txt') as fn:\n",
    "    program = fn.readlines()\n",
    "    program = [int(i) for i in program[0].split(',')]"
   ]
  },
  {
   "cell_type": "code",
   "execution_count": 4943,
   "metadata": {},
   "outputs": [],
   "source": [
    "class RepairDroid(IntcodeComputer):\n",
    "    def __init__(self, bits):\n",
    "        super().__init__(bits)\n",
    "        self.position = (0,0)\n",
    "        self.map = defaultdict(lambda: ' ')\n",
    "        self.map[(0, 0)] = 'D'\n",
    "        self.move_iter = cycle([1,4,2,3])\n",
    "        self.move_iter_r = cycle([1,3,2,4])\n",
    "        self.facing = 1\n",
    "        self.last_move = 0\n",
    "        self.repeated = False\n",
    "        self.wall = False\n",
    "        \n",
    "    def make_move(self, direction):\n",
    "        \"\"\"north (1), south (2), west (3), and east (4)\"\"\"\n",
    "        Delta = {1: (0, 1),\n",
    "                 2: (0, -1),\n",
    "                 3: (-1, 0),\n",
    "                 4: (1, 0)}\n",
    "        \n",
    "        output = self.run(direction)\n",
    "        #print(output)\n",
    "        dx, dy = Delta[direction]\n",
    "        tx, ty = self.position[0] + dx, self.position[1] + dy\n",
    "        #print(tx, ty)\n",
    "        if output == 0:\n",
    "            self.map[(tx, ty)] = '#'\n",
    "            self.wall = True\n",
    "        elif output == 1:\n",
    "            self.map[self.position] = '.'\n",
    "            self.position = (tx, ty)\n",
    "            if self.map[self.position] != ' ':\n",
    "                self.repeated=True\n",
    "            self.map[self.position] = 'D'\n",
    "        elif output == 2:\n",
    "            self.map[self.position] = '.'\n",
    "            self.position = (tx, ty)\n",
    "            self.map[(tx, ty)] = '*'\n",
    "            \n",
    "        self.last_move = output\n",
    "        return output\n",
    "            \n",
    "    def print_map(self):\n",
    "        k0s = [k[0] for k in self.map.keys()]\n",
    "        k1s = [k[1] for k in self.map.keys()]\n",
    "        xrange = min(k0s), max(k0s)\n",
    "        yrange = min(k1s), max(k1s)\n",
    "        map_out = \"\"\n",
    "        for y in range(yrange[1], yrange[0]-1, -1):\n",
    "            for x in range(xrange[0], xrange[1]+1):\n",
    "                if (x==0) & (y==0):\n",
    "                    map_out += \"S\"\n",
    "                else:\n",
    "                    map_out += self.map[(x,y)]\n",
    "            map_out += \"\\n\"\n",
    "        print(map_out)\n",
    "        \n",
    "    def explore(self, print_map=False, hug_right=True):\n",
    "        pair={1:4, 2:3, 3:1, 4:2}\n",
    "        a1 = self.make_move(self.facing)\n",
    "        if a1 == 2:\n",
    "            print(\"!!!!\")\n",
    "            return 2\n",
    "        a2 = self.make_move(pair[self.facing])\n",
    "        if a2 == 2:\n",
    "            print(\"!!!!\")\n",
    "            return 2\n",
    "        \n",
    "        # Hug the wall\n",
    "        if a2 != 0:\n",
    "            self.facing = next(self.move_iter) if hug_right else next(self.move_iter_r)\n",
    "        if (a1 == 0) & hug_right:\n",
    "            next(self.move_iter)\n",
    "            next(self.move_iter)\n",
    "            self.facing = next(self.move_iter)\n",
    "        elif (a1==0) & ~hug_right:\n",
    "            next(self.move_iter_r)\n",
    "            next(self.move_iter_r)\n",
    "            self.facing = next(self.move_iter_r)\n",
    "        if print_map:\n",
    "            self.print_map()\n",
    "        return a1\n",
    "    \n",
    "    def n_moves(self):\n",
    "        return len([v for k, v in self.map.items() if v == '.'])\n",
    "        \n",
    "            "
   ]
  },
  {
   "cell_type": "code",
   "execution_count": 4944,
   "metadata": {},
   "outputs": [],
   "source": [
    "def search(directions):\n",
    "    global droid\n",
    "\n",
    "    droid = RepairDroid(program)\n",
    "    \n",
    "    for d in directions:\n",
    "        r = droid.make_move(d)\n",
    "        if r == 0:\n",
    "            return False\n",
    "        if droid.repeated:\n",
    "            return False\n",
    "        if r == 2:\n",
    "            return True\n",
    "    \n",
    "    if search(directions+[1]) or search(directions+[2]) or search(directions+[3]) or search(directions+[4]):\n",
    "        return True\n",
    "    \n",
    "    return False\n",
    "    "
   ]
  },
  {
   "cell_type": "code",
   "execution_count": 4945,
   "metadata": {},
   "outputs": [
    {
     "data": {
      "text/plain": [
       "True"
      ]
     },
     "execution_count": 4945,
     "metadata": {},
     "output_type": "execute_result"
    }
   ],
   "source": [
    "search([1])"
   ]
  },
  {
   "cell_type": "code",
   "execution_count": 4946,
   "metadata": {},
   "outputs": [
    {
     "name": "stdout",
     "output_type": "stream",
     "text": [
      "              .....        \n",
      "              .   .        \n",
      "    ...     ...   .        \n",
      "    . .     .     .        \n",
      "    . .......     .        \n",
      "    .             .        \n",
      "    .   ...       .        \n",
      "    .   . .       .        \n",
      "    ... . ...     . ...    \n",
      "      . .   .     . . .    \n",
      "      ...   . ... ... ...  \n",
      "            . . .       .  \n",
      "            . . ....... .  \n",
      "            . .       . .  \n",
      "            . .   ..... ...\n",
      "            . .   .       .\n",
      "            . ... .........\n",
      "            .   .          \n",
      "    .....   .   .......    \n",
      "    .   .   .         .    \n",
      ".....   S ... ...   ...    \n",
      ".         .   . .   .      \n",
      ". ...     ..... .   .      \n",
      ". . .           .   .      \n",
      ". . ...         ... .      \n",
      ". .   .           . .      \n",
      ". .   .           . ...    \n",
      ". .   .           .   .    \n",
      "... ...           .   .    \n",
      "    .             .   .    \n",
      "    .         ... .   ...  \n",
      "    .         . . .     .  \n",
      "    .     ..... . ..... ...\n",
      "    .     .     .     .   .\n",
      "    ...   . .....   ...   .\n",
      "      .   . .       .     .\n",
      "....... ... . ... ... .....\n",
      ".       .   . . . .   .    \n",
      ".........   ... ...   ....*\n",
      "\n"
     ]
    }
   ],
   "source": [
    "droid.print_map()"
   ]
  },
  {
   "cell_type": "code",
   "execution_count": 4947,
   "metadata": {},
   "outputs": [
    {
     "data": {
      "text/plain": [
       "304"
      ]
     },
     "execution_count": 4947,
     "metadata": {},
     "output_type": "execute_result"
    }
   ],
   "source": [
    "droid.n_moves()"
   ]
  },
  {
   "cell_type": "code",
   "execution_count": 4948,
   "metadata": {},
   "outputs": [
    {
     "data": {
      "text/plain": [
       "(18, -18)"
      ]
     },
     "execution_count": 4948,
     "metadata": {},
     "output_type": "execute_result"
    }
   ],
   "source": [
    "droid.position"
   ]
  },
  {
   "cell_type": "markdown",
   "metadata": {},
   "source": [
    "# Q2"
   ]
  },
  {
   "cell_type": "code",
   "execution_count": 5009,
   "metadata": {},
   "outputs": [],
   "source": [
    "droid = RepairDroid(program)"
   ]
  },
  {
   "cell_type": "code",
   "execution_count": 5011,
   "metadata": {},
   "outputs": [
    {
     "name": "stdout",
     "output_type": "stream",
     "text": [
      "!!!!\n",
      " ### # ##### ######### ######### ####### \n",
      "#...#.#.....#.........#.........#.......#\n",
      "#.#.#.#.#.###.#######.#.###.###.###.###.#\n",
      "#.#...#.#.....#.#...#...#...#.#.#...#.#.#\n",
      "#.###.#.#######.#.#.#####.###.#.#.###.#.#\n",
      "#...#.#.#.......#.#.......#...#.#...#...#\n",
      "#.#.#.#.#.#####.#.#.#######.#.#.#.#.###.#\n",
      "#.#.#.#.#.#...#.#.#.#...#...#.#.#.#...#.#\n",
      " ##.#.#.#.#.#.###.###.#.###.#.#.#####.## \n",
      "#...#.#.#...#...#...#.#...#.#.#.#...#...#\n",
      "#.## ##.#.## ##.###.#.###.#.###.#.#.###.#\n",
      "#...#...#...#.....#...#.#.#...#...#...#.#\n",
      "#.#.#.#####.#.###.#####.#.#.#.#######.#.#\n",
      "#.#...#...#.#.#...#.....#.#.#.......#.#.#\n",
      "#.#####.#.###.#.#######.#.#.#######.#.#.#\n",
      "#...#...#.....#.#.....#.#.#.#.#.....#...#\n",
      " ##.#.#########.#.###.#.#.#.#.#.#######.#\n",
      "#...#.#.....#.....#.....#.#...#.........#\n",
      "#.###.#.#####.#########.#.###.########## \n",
      "#.#...#.........#.....#.#.#.........#...#\n",
      "#.###.#.#########.###.###.#########.#.## \n",
      "#.#...#.....#.....#.#S#...#...#.#...#...#\n",
      "#.#.## ####.#.#####.###.###.#.#.#.#####.#\n",
      "#.#...#...#.#.#...#...#.....#.#...#.....#\n",
      "#.###.#.###.#.#.#.###.#.#####.###.#.#.## \n",
      "#.....#.....#.#.#...#.#.....#...#.#.#...#\n",
      " ######.#####.#.###.#.#####.###.#.## ##.#\n",
      "#...#...#...#.#.#.#.#...#...#.#.#...#...#\n",
      "#.###.#####.#.#.#.#.#.#.#.###.#.###.#.## \n",
      "#.#...#.....#...#...#.#.#.....#.#.#.#...#\n",
      "#.#.###.###.#####.###.###.#####.#.#.###.#\n",
      "#.#.#...#...#...#.#.#.....#...#.#.....#.#\n",
      "#.#.#.###.#####.#.#.#.#####.#.#.#####.#.#\n",
      "#...#.#.#.#.....#.#...#.....#.#.....#...#\n",
      "#.###.#.#.#.###.#.###.#.#####.#.###.###.#\n",
      "#.#...#.#...#...#...#.#.#.....#.#...#.#.#\n",
      "#.###.#.###.#######.###.#.#### ##.###.#.#\n",
      "#.#...#...#.#.......#...#.#...#...#.....#\n",
      "#.#.###.#.#.#.#######.###.#.#.#.###.#### \n",
      "#...#...#...#.........#.....#...#......*#\n",
      " ### ### ### ######### ##### ### ####### \n",
      "\n"
     ]
    }
   ],
   "source": [
    "r=0\n",
    "while r!=2:\n",
    "    r=droid.explore(hug_right=True)\n",
    "droid.print_map()"
   ]
  },
  {
   "cell_type": "code",
   "execution_count": 5012,
   "metadata": {},
   "outputs": [],
   "source": [
    "import copy\n",
    "def backtrack(main_droid):\n",
    "    main_droid = copy.deepcopy(main_droid)\n",
    "    droids = [copy.deepcopy(main_droid)]\n",
    "    for _ in range(1000):\n",
    "        next_droids = []\n",
    "        for droid in droids:\n",
    "            for i in range(1,5):\n",
    "                newdroid = copy.deepcopy(droid)\n",
    "                res = newdroid.make_move(i)\n",
    "\n",
    "                if (res==1) & (main_droid.map[newdroid.position]!='O'):\n",
    "                    next_droids.append(newdroid)\n",
    "                    main_droid.map[newdroid.position] = 'O'\n",
    "        if len(next_droids) == 0:\n",
    "            print(_)\n",
    "            break\n",
    "        \n",
    "        droids = next_droids.copy()\n",
    "    return main_droid\n",
    "        \n",
    "        "
   ]
  },
  {
   "cell_type": "code",
   "execution_count": 5013,
   "metadata": {},
   "outputs": [
    {
     "name": "stdout",
     "output_type": "stream",
     "text": [
      "310\n"
     ]
    }
   ],
   "source": [
    "D = backtrack(droid)"
   ]
  },
  {
   "cell_type": "code",
   "execution_count": 5014,
   "metadata": {},
   "outputs": [
    {
     "name": "stdout",
     "output_type": "stream",
     "text": [
      " ### # ##### ######### ######### ####### \n",
      "#OOO#O#OOOOO#OOOOOOOOO#OOOOOOOOO#OOOOOOO#\n",
      "#O#O#O#O#O###O#######O#O###O###O###O###O#\n",
      "#O#OOO#O#OOOOO#O#OOO#OOO#OOO#O#O#OOO#O#O#\n",
      "#O###O#O#######O#O#O#####O###O#O#O###O#O#\n",
      "#OOO#O#O#OOOOOOO#O#OOOOOOO#OOO#O#OOO#OOO#\n",
      "#O#O#O#O#O#####O#O#O#######O#O#O#O#O###O#\n",
      "#O#O#O#O#O#OOO#O#O#O#OOO#OOO#O#O#O#OOO#O#\n",
      " ##O#O#O#O#O#O###O###O#O###O#O#O#####O## \n",
      "#OOO#O#O#OOO#OOO#OOO#O#OOO#O#O#O#OOO#OOO#\n",
      "#O## ##O#O## ##O###O#O###O#O###O#O#O###O#\n",
      "#OOO#OOO#OOO#OOOOO#OOO#O#O#OOO#OOO#OOO#O#\n",
      "#O#O#O#####O#O###O#####O#O#O#O#######O#O#\n",
      "#O#OOO#OOO#O#O#OOO#OOOOO#O#O#OOOOOOO#O#O#\n",
      "#O#####O#O###O#O#######O#O#O#######O#O#O#\n",
      "#OOO#OOO#OOOOO#O#OOOOO#O#O#O#O#OOOOO#OOO#\n",
      " ##O#O#########O#O###O#O#O#O#O#O#######O#\n",
      "#OOO#O#OOOOO#OOOOO#OOOOO#O#OOO#OOOOOOOOO#\n",
      "#O###O#O#####O#########O#O###O########## \n",
      "#O#OOO#OOOOOOOOO#OOOOO#O#O#OOOOOOOOO#OOO#\n",
      "#O###O#O#########O###O###O#########O#O## \n",
      "#O#OOO#OOOOO#OOOOO#O#S#OOO#OOO#O#OOO#OOO#\n",
      "#O#O## ####O#O#####O###O###O#O#O#O#####O#\n",
      "#O#OOO#OOO#O#O#OOO#OOO#OOOOO#O#OOO#OOOOO#\n",
      "#O###O#O###O#O#O#O###O#O#####O###O#O#O## \n",
      "#OOOOO#OOOOO#O#O#OOO#O#OOOOO#OOO#O#O#OOO#\n",
      " ######O#####O#O###O#O#####O###O#O## ##O#\n",
      "#OOO#OOO#OOO#O#O#O#O#OOO#OOO#O#O#OOO#OOO#\n",
      "#O###O#####O#O#O#O#O#O#O#O###O#O###O#O## \n",
      "#O#OOO#OOOOO#OOO#OOO#O#O#OOOOO#O#O#O#OOO#\n",
      "#O#O###O###O#####O###O###O#####O#O#O###O#\n",
      "#O#O#OOO#OOO#OOO#O#O#OOOOO#OOO#O#OOOOO#O#\n",
      "#O#O#O###O#####O#O#O#O#####O#O#O#####O#O#\n",
      "#OOO#O#O#O#OOOOO#O#OOO#OOOOO#O#OOOOO#OOO#\n",
      "#O###O#O#O#O###O#O###O#O#####O#O###O###O#\n",
      "#O#OOO#O#OOO#OOO#OOO#O#O#OOOOO#O#OOO#O#O#\n",
      "#O###O#O###O#######O###O#O#### ##O###O#O#\n",
      "#O#OOO#OOO#O#OOOOOOO#OOO#O#OOO#OOO#OOOOO#\n",
      "#O#O###O#O#O#O#######O###O#O#O#O###O#### \n",
      "#OOO#OOO#OOO#OOOOOOOOO#OOOOO#OOO#OOOOOO*#\n",
      " ### ### ### ######### ##### ### ####### \n",
      "\n"
     ]
    }
   ],
   "source": [
    "droid.print_map()"
   ]
  }
 ],
 "metadata": {
  "kernelspec": {
   "display_name": "Python 3",
   "language": "python",
   "name": "python3"
  },
  "language_info": {
   "codemirror_mode": {
    "name": "ipython",
    "version": 3
   },
   "file_extension": ".py",
   "mimetype": "text/x-python",
   "name": "python",
   "nbconvert_exporter": "python",
   "pygments_lexer": "ipython3",
   "version": "3.7.4"
  }
 },
 "nbformat": 4,
 "nbformat_minor": 4
}
